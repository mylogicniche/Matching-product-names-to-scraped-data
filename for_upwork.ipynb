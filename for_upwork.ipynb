{
 "cells": [
  {
   "cell_type": "markdown",
   "metadata": {},
   "source": [
    "#### 1. Form a dataframe using the first group of product names: "
   ]
  },
  {
   "cell_type": "code",
   "execution_count": 147,
   "metadata": {
    "collapsed": false
   },
   "outputs": [],
   "source": [
    "from fuzzywuzzy import fuzz\n",
    "import pandas as pd\n",
    "from numpy import triu, ones\n",
    "import numpy as np\n",
    "\n",
    "t1 = \"Sandisk Extreme Pro 64Gb Sdxc Uhs I U3 V30 (Up To 95Mb/S Read)Memory Card\"\n",
    "t2 = \"Sandisk Sd Extreme Pro Uhs U1 Class 10 64Gb Sdsdxpa 064G\"\n",
    "t3 = \"Sandisk Extreme Pro Sd Uhs I 64Gb Card (Sdsk Sdsdxxg 064G X46)95 90Mb/S Read Write Speed Video Speed C10 U3 V30\"\n",
    "\n",
    "tg1 = \"SANDISK SDC CLASS 10 EXTREME PRO 95MB/S SERIES 64GB\"\n",
    "tg2 = \"SANDISK SDC CLASS 10 EXTREME PRO UHS-II 275MB/S SERIES 64GB\""
   ]
  },
  {
   "cell_type": "code",
   "execution_count": 148,
   "metadata": {
    "collapsed": true
   },
   "outputs": [],
   "source": [
    "s1 = pd.Series([t1,t2,t3], index=range(3))"
   ]
  },
  {
   "cell_type": "code",
   "execution_count": 149,
   "metadata": {
    "collapsed": true
   },
   "outputs": [],
   "source": [
    "dfs = pd.DataFrame([s1.values.tolist()] * s1.shape[0], index=s1.index, columns=s1.index)\n",
    "dfs = dfs.applymap(lambda x: list([x]))"
   ]
  },
  {
   "cell_type": "code",
   "execution_count": 150,
   "metadata": {
    "collapsed": false
   },
   "outputs": [
    {
     "data": {
      "text/html": [
       "<div>\n",
       "<style>\n",
       "    .dataframe thead tr:only-child th {\n",
       "        text-align: right;\n",
       "    }\n",
       "\n",
       "    .dataframe thead th {\n",
       "        text-align: left;\n",
       "    }\n",
       "\n",
       "    .dataframe tbody tr th {\n",
       "        vertical-align: top;\n",
       "    }\n",
       "</style>\n",
       "<table border=\"1\" class=\"dataframe\">\n",
       "  <thead>\n",
       "    <tr style=\"text-align: right;\">\n",
       "      <th></th>\n",
       "      <th>0</th>\n",
       "      <th>1</th>\n",
       "      <th>2</th>\n",
       "    </tr>\n",
       "  </thead>\n",
       "  <tbody>\n",
       "    <tr>\n",
       "      <th>0</th>\n",
       "      <td>NaN</td>\n",
       "      <td>NaN</td>\n",
       "      <td>NaN</td>\n",
       "    </tr>\n",
       "    <tr>\n",
       "      <th>1</th>\n",
       "      <td>[Sandisk Extreme Pro 64Gb Sdxc Uhs I U3 V30 (U...</td>\n",
       "      <td>NaN</td>\n",
       "      <td>NaN</td>\n",
       "    </tr>\n",
       "    <tr>\n",
       "      <th>2</th>\n",
       "      <td>[Sandisk Extreme Pro 64Gb Sdxc Uhs I U3 V30 (U...</td>\n",
       "      <td>[Sandisk Sd Extreme Pro Uhs U1 Class 10 64Gb S...</td>\n",
       "      <td>NaN</td>\n",
       "    </tr>\n",
       "  </tbody>\n",
       "</table>\n",
       "</div>"
      ],
      "text/plain": [
       "                                                   0  \\\n",
       "0                                                NaN   \n",
       "1  [Sandisk Extreme Pro 64Gb Sdxc Uhs I U3 V30 (U...   \n",
       "2  [Sandisk Extreme Pro 64Gb Sdxc Uhs I U3 V30 (U...   \n",
       "\n",
       "                                                   1    2  \n",
       "0                                                NaN  NaN  \n",
       "1                                                NaN  NaN  \n",
       "2  [Sandisk Sd Extreme Pro Uhs U1 Class 10 64Gb S...  NaN  "
      ]
     },
     "execution_count": 150,
     "metadata": {},
     "output_type": "execute_result"
    }
   ],
   "source": [
    "dfd = dfs + dfs.T\n",
    "dfd = dfd.mask(triu(ones(dfd.shape)).astype(bool))\n",
    "dfd"
   ]
  },
  {
   "cell_type": "markdown",
   "metadata": {},
   "source": [
    "#### 2. Compute the similarity among product names in the first group using fuzzywuzzy: "
   ]
  },
  {
   "cell_type": "code",
   "execution_count": 151,
   "metadata": {
    "collapsed": false
   },
   "outputs": [
    {
     "data": {
      "text/html": [
       "<div>\n",
       "<style>\n",
       "    .dataframe thead tr:only-child th {\n",
       "        text-align: right;\n",
       "    }\n",
       "\n",
       "    .dataframe thead th {\n",
       "        text-align: left;\n",
       "    }\n",
       "\n",
       "    .dataframe tbody tr th {\n",
       "        vertical-align: top;\n",
       "    }\n",
       "</style>\n",
       "<table border=\"1\" class=\"dataframe\">\n",
       "  <thead>\n",
       "    <tr style=\"text-align: right;\">\n",
       "      <th></th>\n",
       "      <th>0</th>\n",
       "      <th>1</th>\n",
       "      <th>2</th>\n",
       "    </tr>\n",
       "  </thead>\n",
       "  <tbody>\n",
       "    <tr>\n",
       "      <th>0</th>\n",
       "      <td>NaN</td>\n",
       "      <td>NaN</td>\n",
       "      <td>None</td>\n",
       "    </tr>\n",
       "    <tr>\n",
       "      <th>1</th>\n",
       "      <td>54.0</td>\n",
       "      <td>NaN</td>\n",
       "      <td>None</td>\n",
       "    </tr>\n",
       "    <tr>\n",
       "      <th>2</th>\n",
       "      <td>56.0</td>\n",
       "      <td>70.0</td>\n",
       "      <td>None</td>\n",
       "    </tr>\n",
       "  </tbody>\n",
       "</table>\n",
       "</div>"
      ],
      "text/plain": [
       "      0     1     2\n",
       "0   NaN   NaN  None\n",
       "1  54.0   NaN  None\n",
       "2  56.0  70.0  None"
      ]
     },
     "execution_count": 151,
     "metadata": {},
     "output_type": "execute_result"
    }
   ],
   "source": [
    "def dist(ss):\n",
    "    if type(ss) == list:\n",
    "        return fuzz.partial_ratio(ss[0], ss[1])  \n",
    "\n",
    "dfg = dfd.applymap(dist)\n",
    "dfg"
   ]
  },
  {
   "cell_type": "markdown",
   "metadata": {},
   "source": [
    "#### 3. Group similar objects (which are assumed to be the same product)"
   ]
  },
  {
   "cell_type": "code",
   "execution_count": 152,
   "metadata": {
    "collapsed": true
   },
   "outputs": [],
   "source": [
    "grouplist = []\n",
    "for i, row in dfd[dfg > 50].iterrows():\n",
    "    for r in row.values.tolist():\n",
    "        if type(r) == list:\n",
    "            grouplist.append(r)"
   ]
  },
  {
   "cell_type": "code",
   "execution_count": 153,
   "metadata": {
    "collapsed": true
   },
   "outputs": [],
   "source": [
    "def merge(lsts):\n",
    "    sets = [set(lst) for lst in lsts if lst]\n",
    "    merged = 1\n",
    "    while merged:\n",
    "        merged = 0\n",
    "        results = []\n",
    "        while sets:\n",
    "            common, rest = sets[0], sets[1:]\n",
    "            sets = []\n",
    "            for x in rest:\n",
    "                if x.isdisjoint(common):\n",
    "                    sets.append(x)\n",
    "                else:\n",
    "                    merged = 1\n",
    "                    common |= x\n",
    "            results.append(common)\n",
    "        sets = results\n",
    "    return sets"
   ]
  },
  {
   "cell_type": "code",
   "execution_count": 154,
   "metadata": {
    "collapsed": false
   },
   "outputs": [],
   "source": [
    "grouplist = merge(grouplist)"
   ]
  },
  {
   "cell_type": "markdown",
   "metadata": {},
   "source": [
    "#### 4. Form the dataframe with similar above to compute the similarity between all the product names in the first and second group "
   ]
  },
  {
   "cell_type": "code",
   "execution_count": 155,
   "metadata": {
    "collapsed": false
   },
   "outputs": [],
   "source": [
    "s1 = pd.Series([t1,t2,t3], index=range(3))\n",
    "s2 = pd.Series([tg1,tg2], index=range(2))"
   ]
  },
  {
   "cell_type": "code",
   "execution_count": 156,
   "metadata": {
    "collapsed": false
   },
   "outputs": [
    {
     "data": {
      "text/html": [
       "<div>\n",
       "<style>\n",
       "    .dataframe thead tr:only-child th {\n",
       "        text-align: right;\n",
       "    }\n",
       "\n",
       "    .dataframe thead th {\n",
       "        text-align: left;\n",
       "    }\n",
       "\n",
       "    .dataframe tbody tr th {\n",
       "        vertical-align: top;\n",
       "    }\n",
       "</style>\n",
       "<table border=\"1\" class=\"dataframe\">\n",
       "  <thead>\n",
       "    <tr style=\"text-align: right;\">\n",
       "      <th></th>\n",
       "      <th>0</th>\n",
       "      <th>1</th>\n",
       "      <th>2</th>\n",
       "    </tr>\n",
       "  </thead>\n",
       "  <tbody>\n",
       "    <tr>\n",
       "      <th>0</th>\n",
       "      <td>[Sandisk Extreme Pro 64Gb Sdxc Uhs I U3 V30 (U...</td>\n",
       "      <td>[Sandisk Sd Extreme Pro Uhs U1 Class 10 64Gb S...</td>\n",
       "      <td>[Sandisk Extreme Pro Sd Uhs I 64Gb Card (Sdsk ...</td>\n",
       "    </tr>\n",
       "    <tr>\n",
       "      <th>1</th>\n",
       "      <td>[Sandisk Extreme Pro 64Gb Sdxc Uhs I U3 V30 (U...</td>\n",
       "      <td>[Sandisk Sd Extreme Pro Uhs U1 Class 10 64Gb S...</td>\n",
       "      <td>[Sandisk Extreme Pro Sd Uhs I 64Gb Card (Sdsk ...</td>\n",
       "    </tr>\n",
       "  </tbody>\n",
       "</table>\n",
       "</div>"
      ],
      "text/plain": [
       "                                                   0  \\\n",
       "0  [Sandisk Extreme Pro 64Gb Sdxc Uhs I U3 V30 (U...   \n",
       "1  [Sandisk Extreme Pro 64Gb Sdxc Uhs I U3 V30 (U...   \n",
       "\n",
       "                                                   1  \\\n",
       "0  [Sandisk Sd Extreme Pro Uhs U1 Class 10 64Gb S...   \n",
       "1  [Sandisk Sd Extreme Pro Uhs U1 Class 10 64Gb S...   \n",
       "\n",
       "                                                   2  \n",
       "0  [Sandisk Extreme Pro Sd Uhs I 64Gb Card (Sdsk ...  \n",
       "1  [Sandisk Extreme Pro Sd Uhs I 64Gb Card (Sdsk ...  "
      ]
     },
     "execution_count": 156,
     "metadata": {},
     "output_type": "execute_result"
    }
   ],
   "source": [
    "dfs1 = pd.DataFrame([s1.values.tolist()] * s2.shape[0], index=range(s2.shape[0]), columns=s1.index)\n",
    "dfs1 = dfs1.applymap(lambda x: list([x]))\n",
    "dfs1"
   ]
  },
  {
   "cell_type": "code",
   "execution_count": 157,
   "metadata": {
    "collapsed": false
   },
   "outputs": [
    {
     "data": {
      "text/html": [
       "<div>\n",
       "<style>\n",
       "    .dataframe thead tr:only-child th {\n",
       "        text-align: right;\n",
       "    }\n",
       "\n",
       "    .dataframe thead th {\n",
       "        text-align: left;\n",
       "    }\n",
       "\n",
       "    .dataframe tbody tr th {\n",
       "        vertical-align: top;\n",
       "    }\n",
       "</style>\n",
       "<table border=\"1\" class=\"dataframe\">\n",
       "  <thead>\n",
       "    <tr style=\"text-align: right;\">\n",
       "      <th></th>\n",
       "      <th>0</th>\n",
       "      <th>1</th>\n",
       "      <th>2</th>\n",
       "    </tr>\n",
       "  </thead>\n",
       "  <tbody>\n",
       "    <tr>\n",
       "      <th>0</th>\n",
       "      <td>[SANDISK SDC CLASS 10 EXTREME PRO 95MB/S SERIE...</td>\n",
       "      <td>[SANDISK SDC CLASS 10 EXTREME PRO 95MB/S SERIE...</td>\n",
       "      <td>[SANDISK SDC CLASS 10 EXTREME PRO 95MB/S SERIE...</td>\n",
       "    </tr>\n",
       "    <tr>\n",
       "      <th>1</th>\n",
       "      <td>[SANDISK SDC CLASS 10 EXTREME PRO UHS-II 275MB...</td>\n",
       "      <td>[SANDISK SDC CLASS 10 EXTREME PRO UHS-II 275MB...</td>\n",
       "      <td>[SANDISK SDC CLASS 10 EXTREME PRO UHS-II 275MB...</td>\n",
       "    </tr>\n",
       "  </tbody>\n",
       "</table>\n",
       "</div>"
      ],
      "text/plain": [
       "                                                   0  \\\n",
       "0  [SANDISK SDC CLASS 10 EXTREME PRO 95MB/S SERIE...   \n",
       "1  [SANDISK SDC CLASS 10 EXTREME PRO UHS-II 275MB...   \n",
       "\n",
       "                                                   1  \\\n",
       "0  [SANDISK SDC CLASS 10 EXTREME PRO 95MB/S SERIE...   \n",
       "1  [SANDISK SDC CLASS 10 EXTREME PRO UHS-II 275MB...   \n",
       "\n",
       "                                                   2  \n",
       "0  [SANDISK SDC CLASS 10 EXTREME PRO 95MB/S SERIE...  \n",
       "1  [SANDISK SDC CLASS 10 EXTREME PRO UHS-II 275MB...  "
      ]
     },
     "execution_count": 157,
     "metadata": {},
     "output_type": "execute_result"
    }
   ],
   "source": [
    "\n",
    "dfs2 = pd.DataFrame([s2.values.tolist()] * s1.shape[0], index=range(s1.shape[0]), columns=s2.index)\n",
    "dfs2 = dfs2.applymap(lambda x: list([x]))\n",
    "dfs2.T"
   ]
  },
  {
   "cell_type": "code",
   "execution_count": 158,
   "metadata": {
    "collapsed": false
   },
   "outputs": [],
   "source": [
    "dfd2 = dfs1 + dfs2.T"
   ]
  },
  {
   "cell_type": "markdown",
   "metadata": {},
   "source": [
    "#### 5.  compute the similarity between all the product names in the first and second group"
   ]
  },
  {
   "cell_type": "code",
   "execution_count": 159,
   "metadata": {
    "collapsed": false
   },
   "outputs": [
    {
     "data": {
      "text/html": [
       "<div>\n",
       "<style>\n",
       "    .dataframe thead tr:only-child th {\n",
       "        text-align: right;\n",
       "    }\n",
       "\n",
       "    .dataframe thead th {\n",
       "        text-align: left;\n",
       "    }\n",
       "\n",
       "    .dataframe tbody tr th {\n",
       "        vertical-align: top;\n",
       "    }\n",
       "</style>\n",
       "<table border=\"1\" class=\"dataframe\">\n",
       "  <thead>\n",
       "    <tr style=\"text-align: right;\">\n",
       "      <th></th>\n",
       "      <th>0</th>\n",
       "      <th>1</th>\n",
       "      <th>2</th>\n",
       "    </tr>\n",
       "  </thead>\n",
       "  <tbody>\n",
       "    <tr>\n",
       "      <th>0</th>\n",
       "      <td>32</td>\n",
       "      <td>24</td>\n",
       "      <td>20</td>\n",
       "    </tr>\n",
       "    <tr>\n",
       "      <th>1</th>\n",
       "      <td>15</td>\n",
       "      <td>23</td>\n",
       "      <td>17</td>\n",
       "    </tr>\n",
       "  </tbody>\n",
       "</table>\n",
       "</div>"
      ],
      "text/plain": [
       "    0   1   2\n",
       "0  32  24  20\n",
       "1  15  23  17"
      ]
     },
     "execution_count": 159,
     "metadata": {},
     "output_type": "execute_result"
    }
   ],
   "source": [
    "dfg2 = dfd2.applymap(dist)\n",
    "dfg2"
   ]
  },
  {
   "cell_type": "markdown",
   "metadata": {},
   "source": [
    "#### 6. Find the strongest similarity between the elements in the grouplist and the elements in the second group and match the product names "
   ]
  },
  {
   "cell_type": "code",
   "execution_count": 170,
   "metadata": {
    "collapsed": false
   },
   "outputs": [],
   "source": [
    "vert = dfd2[dfg2 == dfg2.max()]"
   ]
  },
  {
   "cell_type": "code",
   "execution_count": 171,
   "metadata": {
    "collapsed": false
   },
   "outputs": [
    {
     "data": {
      "text/html": [
       "<div>\n",
       "<style>\n",
       "    .dataframe thead tr:only-child th {\n",
       "        text-align: right;\n",
       "    }\n",
       "\n",
       "    .dataframe thead th {\n",
       "        text-align: left;\n",
       "    }\n",
       "\n",
       "    .dataframe tbody tr th {\n",
       "        vertical-align: top;\n",
       "    }\n",
       "</style>\n",
       "<table border=\"1\" class=\"dataframe\">\n",
       "  <thead>\n",
       "    <tr style=\"text-align: right;\">\n",
       "      <th></th>\n",
       "      <th>0</th>\n",
       "      <th>1</th>\n",
       "      <th>2</th>\n",
       "    </tr>\n",
       "  </thead>\n",
       "  <tbody>\n",
       "    <tr>\n",
       "      <th>0</th>\n",
       "      <td>[Sandisk Extreme Pro 64Gb Sdxc Uhs I U3 V30 (U...</td>\n",
       "      <td>[Sandisk Sd Extreme Pro Uhs U1 Class 10 64Gb S...</td>\n",
       "      <td>[Sandisk Extreme Pro Sd Uhs I 64Gb Card (Sdsk ...</td>\n",
       "    </tr>\n",
       "    <tr>\n",
       "      <th>1</th>\n",
       "      <td>NaN</td>\n",
       "      <td>NaN</td>\n",
       "      <td>NaN</td>\n",
       "    </tr>\n",
       "  </tbody>\n",
       "</table>\n",
       "</div>"
      ],
      "text/plain": [
       "                                                   0  \\\n",
       "0  [Sandisk Extreme Pro 64Gb Sdxc Uhs I U3 V30 (U...   \n",
       "1                                                NaN   \n",
       "\n",
       "                                                   1  \\\n",
       "0  [Sandisk Sd Extreme Pro Uhs U1 Class 10 64Gb S...   \n",
       "1                                                NaN   \n",
       "\n",
       "                                                   2  \n",
       "0  [Sandisk Extreme Pro Sd Uhs I 64Gb Card (Sdsk ...  \n",
       "1                                                NaN  "
      ]
     },
     "execution_count": 171,
     "metadata": {},
     "output_type": "execute_result"
    }
   ],
   "source": [
    "vert"
   ]
  },
  {
   "cell_type": "code",
   "execution_count": 175,
   "metadata": {
    "collapsed": false
   },
   "outputs": [
    {
     "data": {
      "text/plain": [
       "0    [Sandisk Extreme Pro 64Gb Sdxc Uhs I U3 V30 (U...\n",
       "1    [Sandisk Sd Extreme Pro Uhs U1 Class 10 64Gb S...\n",
       "2    [Sandisk Extreme Pro Sd Uhs I 64Gb Card (Sdsk ...\n",
       "Name: 0, dtype: object"
      ]
     },
     "execution_count": 175,
     "metadata": {},
     "output_type": "execute_result"
    }
   ],
   "source": [
    "vert.iloc[0,:][vert.iloc[0,:].notnull()]"
   ]
  },
  {
   "cell_type": "code",
   "execution_count": 179,
   "metadata": {
    "collapsed": false
   },
   "outputs": [
    {
     "data": {
      "text/plain": [
       "{'SANDISK SDC CLASS 10 EXTREME PRO 95MB/S SERIES 64GB': ['Sandisk Extreme Pro 64Gb Sdxc Uhs I U3 V30 (Up To 95Mb/S Read)Memory Card',\n",
       "  'Sandisk Sd Extreme Pro Uhs U1 Class 10 64Gb Sdsdxpa 064G',\n",
       "  'Sandisk Extreme Pro Sd Uhs I 64Gb Card (Sdsk Sdsdxxg 064G X46)95 90Mb/S Read Write Speed Video Speed C10 U3 V30']}"
      ]
     },
     "execution_count": 179,
     "metadata": {},
     "output_type": "execute_result"
    }
   ],
   "source": [
    "candidates = {}\n",
    "for i, row in vert.iterrows():\n",
    "    for r in row[row.notnull()]:\n",
    "        candidates.setdefault(r[1], []).append(r[0])\n",
    "candidates"
   ]
  },
  {
   "cell_type": "code",
   "execution_count": 182,
   "metadata": {
    "collapsed": false
   },
   "outputs": [
    {
     "data": {
      "text/plain": [
       "{'Sandisk Extreme Pro 64Gb Sdxc Uhs I U3 V30 (Up To 95Mb/S Read)Memory Card',\n",
       " 'Sandisk Extreme Pro Sd Uhs I 64Gb Card (Sdsk Sdsdxxg 064G X46)95 90Mb/S Read Write Speed Video Speed C10 U3 V30',\n",
       " 'Sandisk Sd Extreme Pro Uhs U1 Class 10 64Gb Sdsdxpa 064G'}"
      ]
     },
     "execution_count": 182,
     "metadata": {},
     "output_type": "execute_result"
    }
   ],
   "source": [
    "grouplist[0]"
   ]
  },
  {
   "cell_type": "code",
   "execution_count": 187,
   "metadata": {
    "collapsed": false
   },
   "outputs": [
    {
     "data": {
      "text/plain": [
       "{'SANDISK SDC CLASS 10 EXTREME PRO 95MB/S SERIES 64GB': {'Sandisk Extreme Pro 64Gb Sdxc Uhs I U3 V30 (Up To 95Mb/S Read)Memory Card',\n",
       "  'Sandisk Extreme Pro Sd Uhs I 64Gb Card (Sdsk Sdsdxxg 064G X46)95 90Mb/S Read Write Speed Video Speed C10 U3 V30',\n",
       "  'Sandisk Sd Extreme Pro Uhs U1 Class 10 64Gb Sdsdxpa 064G'}}"
      ]
     },
     "execution_count": 187,
     "metadata": {},
     "output_type": "execute_result"
    }
   ],
   "source": [
    "import operator\n",
    "\n",
    "matched = {}\n",
    "for key, val in candidates.items():\n",
    "    d = {}\n",
    "    for i, group in enumerate(grouplist):\n",
    "        d.update({i: len(group.intersection(val))})\n",
    "    g = sorted(d.items(), key=operator.itemgetter(1), reverse=True)[0][0]\n",
    "    matched.update({key:grouplist[g]})\n",
    "    \n",
    "matched"
   ]
  }
 ],
 "metadata": {
  "kernelspec": {
   "display_name": "Python 3",
   "language": "python",
   "name": "python3"
  },
  "language_info": {
   "codemirror_mode": {
    "name": "ipython",
    "version": 3
   },
   "file_extension": ".py",
   "mimetype": "text/x-python",
   "name": "python",
   "nbconvert_exporter": "python",
   "pygments_lexer": "ipython3",
   "version": "3.5.3"
  }
 },
 "nbformat": 4,
 "nbformat_minor": 2
}
