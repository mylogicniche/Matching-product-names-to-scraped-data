{
 "cells": [
  {
   "cell_type": "markdown",
   "metadata": {},
   "source": [
    "#### 1. Form a dataframe using the first group of product names: "
   ]
  },
  {
   "cell_type": "code",
   "execution_count": 8,
   "metadata": {},
   "outputs": [],
   "source": [
    "from difflib import SequenceMatcher\n",
    "import difflib\n",
    "from fuzzywuzzy import fuzz\n",
    "import pandas as pd\n",
    "from numpy import triu, ones\n",
    "\n",
    "t1 = \"Sandisk Extreme Pro 64Gb Sdxc Uhs I U3 V30 (Up To 95Mb/S Read)Memory Card\"\n",
    "t2 = \"Sandisk Sd Extreme Pro Uhs U1 Class 10 64Gb Sdsdxpa 064G\"\n",
    "t3 = \"Sandisk Extreme Pro Sd Uhs I 64Gb Card (Sdsk Sdsdxxg 064G X46)95 90Mb/S Read Write Speed Video Speed C10 U3 V30\"\n",
    "\n",
    "tg1 = \"SANDISK SDC CLASS 10 EXTREME PRO 95MB/S SERIES 64GB\"\n",
    "tg2 = \"SANDISK SDC CLASS 10 EXTREME PRO UHS-II 275MB/S SERIES 64GB\""
   ]
  },
  {
   "cell_type": "code",
   "execution_count": 5,
   "metadata": {},
   "outputs": [],
   "source": [
    "s1 = pd.Series([t1,t2,t3], index=range(3))"
   ]
  },
  {
   "cell_type": "code",
   "execution_count": 6,
   "metadata": {
    "collapsed": true
   },
   "outputs": [],
   "source": [
    "dfs = pd.DataFrame([s1.values.tolist()] * s1.shape[0], index=s1.index, columns=s1.index)\n",
    "dfs = dfs.applymap(lambda x: list([x]))"
   ]
  },
  {
   "cell_type": "code",
   "execution_count": 9,
   "metadata": {},
   "outputs": [
    {
     "data": {
      "text/html": [
       "<div>\n",
       "<style>\n",
       "    .dataframe thead tr:only-child th {\n",
       "        text-align: right;\n",
       "    }\n",
       "\n",
       "    .dataframe thead th {\n",
       "        text-align: left;\n",
       "    }\n",
       "\n",
       "    .dataframe tbody tr th {\n",
       "        vertical-align: top;\n",
       "    }\n",
       "</style>\n",
       "<table border=\"1\" class=\"dataframe\">\n",
       "  <thead>\n",
       "    <tr style=\"text-align: right;\">\n",
       "      <th></th>\n",
       "      <th>0</th>\n",
       "      <th>1</th>\n",
       "      <th>2</th>\n",
       "    </tr>\n",
       "  </thead>\n",
       "  <tbody>\n",
       "    <tr>\n",
       "      <th>0</th>\n",
       "      <td>NaN</td>\n",
       "      <td>NaN</td>\n",
       "      <td>NaN</td>\n",
       "    </tr>\n",
       "    <tr>\n",
       "      <th>1</th>\n",
       "      <td>[Sandisk Extreme Pro 64Gb Sdxc Uhs I U3 V30 (U...</td>\n",
       "      <td>NaN</td>\n",
       "      <td>NaN</td>\n",
       "    </tr>\n",
       "    <tr>\n",
       "      <th>2</th>\n",
       "      <td>[Sandisk Extreme Pro 64Gb Sdxc Uhs I U3 V30 (U...</td>\n",
       "      <td>[Sandisk Sd Extreme Pro Uhs U1 Class 10 64Gb S...</td>\n",
       "      <td>NaN</td>\n",
       "    </tr>\n",
       "  </tbody>\n",
       "</table>\n",
       "</div>"
      ],
      "text/plain": [
       "                                                   0  \\\n",
       "0                                                NaN   \n",
       "1  [Sandisk Extreme Pro 64Gb Sdxc Uhs I U3 V30 (U...   \n",
       "2  [Sandisk Extreme Pro 64Gb Sdxc Uhs I U3 V30 (U...   \n",
       "\n",
       "                                                   1    2  \n",
       "0                                                NaN  NaN  \n",
       "1                                                NaN  NaN  \n",
       "2  [Sandisk Sd Extreme Pro Uhs U1 Class 10 64Gb S...  NaN  "
      ]
     },
     "execution_count": 9,
     "metadata": {},
     "output_type": "execute_result"
    }
   ],
   "source": [
    "dfd = dfs + dfs.T\n",
    "dfd = dfd.mask(triu(ones(dfd.shape)).astype(bool))\n",
    "dfd"
   ]
  },
  {
   "cell_type": "markdown",
   "metadata": {},
   "source": [
    "#### 2. Compute the similarity between product name in the first group using fuzzywuzzy: "
   ]
  },
  {
   "cell_type": "code",
   "execution_count": 15,
   "metadata": {},
   "outputs": [
    {
     "data": {
      "text/html": [
       "<div>\n",
       "<style>\n",
       "    .dataframe thead tr:only-child th {\n",
       "        text-align: right;\n",
       "    }\n",
       "\n",
       "    .dataframe thead th {\n",
       "        text-align: left;\n",
       "    }\n",
       "\n",
       "    .dataframe tbody tr th {\n",
       "        vertical-align: top;\n",
       "    }\n",
       "</style>\n",
       "<table border=\"1\" class=\"dataframe\">\n",
       "  <thead>\n",
       "    <tr style=\"text-align: right;\">\n",
       "      <th></th>\n",
       "      <th>0</th>\n",
       "      <th>1</th>\n",
       "      <th>2</th>\n",
       "    </tr>\n",
       "  </thead>\n",
       "  <tbody>\n",
       "    <tr>\n",
       "      <th>0</th>\n",
       "      <td>NaN</td>\n",
       "      <td>NaN</td>\n",
       "      <td>None</td>\n",
       "    </tr>\n",
       "    <tr>\n",
       "      <th>1</th>\n",
       "      <td>54.0</td>\n",
       "      <td>NaN</td>\n",
       "      <td>None</td>\n",
       "    </tr>\n",
       "    <tr>\n",
       "      <th>2</th>\n",
       "      <td>56.0</td>\n",
       "      <td>70.0</td>\n",
       "      <td>None</td>\n",
       "    </tr>\n",
       "  </tbody>\n",
       "</table>\n",
       "</div>"
      ],
      "text/plain": [
       "      0     1     2\n",
       "0   NaN   NaN  None\n",
       "1  54.0   NaN  None\n",
       "2  56.0  70.0  None"
      ]
     },
     "execution_count": 15,
     "metadata": {},
     "output_type": "execute_result"
    }
   ],
   "source": [
    "def dist(ss):\n",
    "    if type(ss) == list:\n",
    "        return fuzz.partial_ratio(ss[0], ss[1])  \n",
    "\n",
    "dfg = dfd.applymap(dist)\n",
    "dfg"
   ]
  },
  {
   "cell_type": "markdown",
   "metadata": {},
   "source": [
    "#### 3. Group similar object (which are assumed to be the same product)"
   ]
  },
  {
   "cell_type": "code",
   "execution_count": 43,
   "metadata": {},
   "outputs": [],
   "source": [
    "grouplist = []\n",
    "for i, row in dfd[dfg > 50].iterrows():\n",
    "    for r in row.values.tolist():\n",
    "        if type(r) == list:\n",
    "            grouplist.append(r)"
   ]
  },
  {
   "cell_type": "code",
   "execution_count": 44,
   "metadata": {},
   "outputs": [],
   "source": [
    "def merge(lsts):\n",
    "    sets = [set(lst) for lst in lsts if lst]\n",
    "    merged = 1\n",
    "    while merged:\n",
    "        merged = 0\n",
    "        results = []\n",
    "        while sets:\n",
    "            common, rest = sets[0], sets[1:]\n",
    "            sets = []\n",
    "            for x in rest:\n",
    "                if x.isdisjoint(common):\n",
    "                    sets.append(x)\n",
    "                else:\n",
    "                    merged = 1\n",
    "                    common |= x\n",
    "            results.append(common)\n",
    "        sets = results\n",
    "    return sets"
   ]
  },
  {
   "cell_type": "code",
   "execution_count": 45,
   "metadata": {},
   "outputs": [
    {
     "data": {
      "text/plain": [
       "[{'Sandisk Extreme Pro 64Gb Sdxc Uhs I U3 V30 (Up To 95Mb/S Read)Memory Card',\n",
       "  'Sandisk Extreme Pro Sd Uhs I 64Gb Card (Sdsk Sdsdxxg 064G X46)95 90Mb/S Read Write Speed Video Speed C10 U3 V30',\n",
       "  'Sandisk Sd Extreme Pro Uhs U1 Class 10 64Gb Sdsdxpa 064G'}]"
      ]
     },
     "execution_count": 45,
     "metadata": {},
     "output_type": "execute_result"
    }
   ],
   "source": [
    "merge(grouplist)"
   ]
  },
  {
   "cell_type": "markdown",
   "metadata": {},
   "source": [
    "#### 4. Form the dataframe with similar above to compute the similarity between all the product names in the first and second group "
   ]
  },
  {
   "cell_type": "markdown",
   "metadata": {},
   "source": [
    "#### 5.  compute the similarity between all the product names in the first and second group"
   ]
  },
  {
   "cell_type": "markdown",
   "metadata": {},
   "source": [
    "#### 6. Find the strongest similarity between the elements in the grouplist and the elements in the second group and match the product names "
   ]
  }
 ],
 "metadata": {
  "kernelspec": {
   "display_name": "Python 3",
   "language": "python",
   "name": "python3"
  },
  "language_info": {
   "codemirror_mode": {
    "name": "ipython",
    "version": 3
   },
   "file_extension": ".py",
   "mimetype": "text/x-python",
   "name": "python",
   "nbconvert_exporter": "python",
   "pygments_lexer": "ipython3",
   "version": "3.6.2"
  }
 },
 "nbformat": 4,
 "nbformat_minor": 2
}
