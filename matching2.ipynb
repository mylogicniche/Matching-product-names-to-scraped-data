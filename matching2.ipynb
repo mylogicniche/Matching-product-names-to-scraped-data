{
 "cells": [
  {
   "cell_type": "code",
   "execution_count": 73,
   "metadata": {
    "collapsed": false
   },
   "outputs": [],
   "source": [
    "import pandas as pd\n",
    "import numpy as np"
   ]
  },
  {
   "cell_type": "code",
   "execution_count": 74,
   "metadata": {
    "collapsed": true
   },
   "outputs": [],
   "source": [
    "with open(\"product_list2.csv\", \"r\") as fp:\n",
    "    data_tgt = fp.readlines()\n",
    "\n",
    "df = pd.read_csv(\"scraped list.csv\")\n",
    "    \n",
    "list_tgt = [x.replace('\"',\"\") for x in list(data_tgt)]\n",
    "list_src = df['product-name'].values.tolist()#[:500]"
   ]
  },
  {
   "cell_type": "code",
   "execution_count": 75,
   "metadata": {
    "collapsed": true
   },
   "outputs": [],
   "source": [
    "def clean(s):\n",
    "    d = {}\n",
    "    s = s.lower()\n",
    "    sl = s.split(\" \")\n",
    "    d.update({'brand': sl[0]})#, 'type': sl[1]})\n",
    "    second = sl[2:]\n",
    "    for part in second:\n",
    "        if \"mb/s\" in part:\n",
    "            d.update({'speed':part})\n",
    "        if \"gb\" in part:\n",
    "            d.update({'capacity':part[0:-1].replace('\\n', \"\")})\n",
    "            \n",
    "    return d"
   ]
  },
  {
   "cell_type": "code",
   "execution_count": 76,
   "metadata": {
    "collapsed": true
   },
   "outputs": [],
   "source": [
    "prodict = {}\n",
    "for l in list_tgt:\n",
    "    prodict.update({l: clean(l)})"
   ]
  },
  {
   "cell_type": "code",
   "execution_count": 77,
   "metadata": {
    "collapsed": false
   },
   "outputs": [
    {
     "data": {
      "text/html": [
       "<div>\n",
       "<style>\n",
       "    .dataframe thead tr:only-child th {\n",
       "        text-align: right;\n",
       "    }\n",
       "\n",
       "    .dataframe thead th {\n",
       "        text-align: left;\n",
       "    }\n",
       "\n",
       "    .dataframe tbody tr th {\n",
       "        vertical-align: top;\n",
       "    }\n",
       "</style>\n",
       "<table border=\"1\" class=\"dataframe\">\n",
       "  <thead>\n",
       "    <tr style=\"text-align: right;\">\n",
       "      <th></th>\n",
       "      <th>brand</th>\n",
       "      <th>capacity</th>\n",
       "      <th>speed</th>\n",
       "    </tr>\n",
       "  </thead>\n",
       "  <tbody>\n",
       "    <tr>\n",
       "      <th>KINGSTON CF CARD 4GB\\n</th>\n",
       "      <td>kingston</td>\n",
       "      <td>4gb</td>\n",
       "      <td>NaN</td>\n",
       "    </tr>\n",
       "    <tr>\n",
       "      <th>KINGSTON CF CARD 8GB\\n</th>\n",
       "      <td>kingston</td>\n",
       "      <td>8gb</td>\n",
       "      <td>NaN</td>\n",
       "    </tr>\n",
       "    <tr>\n",
       "      <th>KINGSTON SDC CLASS 10 80MB/S 128GB\\n</th>\n",
       "      <td>kingston</td>\n",
       "      <td>128gb</td>\n",
       "      <td>80mb/s</td>\n",
       "    </tr>\n",
       "    <tr>\n",
       "      <th>KINGSTON SDC CLASS 10 80MB/S 16GB\\n</th>\n",
       "      <td>kingston</td>\n",
       "      <td>16gb</td>\n",
       "      <td>80mb/s</td>\n",
       "    </tr>\n",
       "    <tr>\n",
       "      <th>KINGSTON SDC CLASS 10 80MB/S 256MB\\n</th>\n",
       "      <td>kingston</td>\n",
       "      <td>NaN</td>\n",
       "      <td>80mb/s</td>\n",
       "    </tr>\n",
       "  </tbody>\n",
       "</table>\n",
       "</div>"
      ],
      "text/plain": [
       "                                         brand capacity   speed\n",
       "KINGSTON CF CARD 4GB\\n                kingston      4gb     NaN\n",
       "KINGSTON CF CARD 8GB\\n                kingston      8gb     NaN\n",
       "KINGSTON SDC CLASS 10 80MB/S 128GB\\n  kingston    128gb  80mb/s\n",
       "KINGSTON SDC CLASS 10 80MB/S 16GB\\n   kingston     16gb  80mb/s\n",
       "KINGSTON SDC CLASS 10 80MB/S 256MB\\n  kingston      NaN  80mb/s"
      ]
     },
     "execution_count": 77,
     "metadata": {},
     "output_type": "execute_result"
    }
   ],
   "source": [
    "df = pd.DataFrame(prodict).T\n",
    "df.head()"
   ]
  },
  {
   "cell_type": "code",
   "execution_count": 78,
   "metadata": {
    "collapsed": false
   },
   "outputs": [
    {
     "data": {
      "text/plain": [
       "brand        0\n",
       "capacity     1\n",
       "speed       19\n",
       "dtype: int64"
      ]
     },
     "execution_count": 78,
     "metadata": {},
     "output_type": "execute_result"
    }
   ],
   "source": [
    "df.isnull().sum()"
   ]
  },
  {
   "cell_type": "code",
   "execution_count": 79,
   "metadata": {
    "collapsed": false
   },
   "outputs": [],
   "source": [
    "df['num'] = df.notnull().sum(axis=1)"
   ]
  },
  {
   "cell_type": "code",
   "execution_count": 80,
   "metadata": {
    "collapsed": false
   },
   "outputs": [
    {
     "data": {
      "text/html": [
       "<div>\n",
       "<style>\n",
       "    .dataframe thead tr:only-child th {\n",
       "        text-align: right;\n",
       "    }\n",
       "\n",
       "    .dataframe thead th {\n",
       "        text-align: left;\n",
       "    }\n",
       "\n",
       "    .dataframe tbody tr th {\n",
       "        vertical-align: top;\n",
       "    }\n",
       "</style>\n",
       "<table border=\"1\" class=\"dataframe\">\n",
       "  <thead>\n",
       "    <tr style=\"text-align: right;\">\n",
       "      <th></th>\n",
       "      <th>brand</th>\n",
       "      <th>capacity</th>\n",
       "      <th>speed</th>\n",
       "      <th>num</th>\n",
       "    </tr>\n",
       "  </thead>\n",
       "  <tbody>\n",
       "    <tr>\n",
       "      <th>KINGSTON CF CARD 4GB\\n</th>\n",
       "      <td>kingston</td>\n",
       "      <td>4gb</td>\n",
       "      <td>NaN</td>\n",
       "      <td>2</td>\n",
       "    </tr>\n",
       "    <tr>\n",
       "      <th>KINGSTON CF CARD 8GB\\n</th>\n",
       "      <td>kingston</td>\n",
       "      <td>8gb</td>\n",
       "      <td>NaN</td>\n",
       "      <td>2</td>\n",
       "    </tr>\n",
       "    <tr>\n",
       "      <th>KINGSTON SDC CLASS 10 80MB/S 128GB\\n</th>\n",
       "      <td>kingston</td>\n",
       "      <td>128gb</td>\n",
       "      <td>80mb/s</td>\n",
       "      <td>3</td>\n",
       "    </tr>\n",
       "    <tr>\n",
       "      <th>KINGSTON SDC CLASS 10 80MB/S 16GB\\n</th>\n",
       "      <td>kingston</td>\n",
       "      <td>16gb</td>\n",
       "      <td>80mb/s</td>\n",
       "      <td>3</td>\n",
       "    </tr>\n",
       "    <tr>\n",
       "      <th>KINGSTON SDC CLASS 10 80MB/S 256MB\\n</th>\n",
       "      <td>kingston</td>\n",
       "      <td>NaN</td>\n",
       "      <td>80mb/s</td>\n",
       "      <td>2</td>\n",
       "    </tr>\n",
       "  </tbody>\n",
       "</table>\n",
       "</div>"
      ],
      "text/plain": [
       "                                         brand capacity   speed  num\n",
       "KINGSTON CF CARD 4GB\\n                kingston      4gb     NaN    2\n",
       "KINGSTON CF CARD 8GB\\n                kingston      8gb     NaN    2\n",
       "KINGSTON SDC CLASS 10 80MB/S 128GB\\n  kingston    128gb  80mb/s    3\n",
       "KINGSTON SDC CLASS 10 80MB/S 16GB\\n   kingston     16gb  80mb/s    3\n",
       "KINGSTON SDC CLASS 10 80MB/S 256MB\\n  kingston      NaN  80mb/s    2"
      ]
     },
     "execution_count": 80,
     "metadata": {},
     "output_type": "execute_result"
    }
   ],
   "source": [
    "df.head()"
   ]
  },
  {
   "cell_type": "code",
   "execution_count": 81,
   "metadata": {
    "collapsed": false
   },
   "outputs": [
    {
     "data": {
      "text/plain": [
       "str"
      ]
     },
     "execution_count": 81,
     "metadata": {},
     "output_type": "execute_result"
    }
   ],
   "source": [
    "type(df.iloc[0,0])"
   ]
  },
  {
   "cell_type": "code",
   "execution_count": 82,
   "metadata": {
    "collapsed": false
   },
   "outputs": [
    {
     "name": "stdout",
     "output_type": "stream",
     "text": [
      "Samsung Evo Plus Micro Sdxc Class 10 Uhs 1 64G Memory Card\n",
      "SAMSUNG SDC EVO CLASS 10 100MB/S 128GB\n",
      " 1\n"
     ]
    },
    {
     "data": {
      "text/plain": [
       "3"
      ]
     },
     "execution_count": 82,
     "metadata": {},
     "output_type": "execute_result"
    }
   ],
   "source": [
    "l = list_src[5]\n",
    "print(l)\n",
    "df_temp = df.drop(['num'], axis=1).applymap(lambda x: 1 if type(x) == str and x in l.lower() else 0)\n",
    "key = df_temp.sum(axis=1).sort_values(ascending=False).index.tolist()[0]\n",
    "num = df_temp.sum(axis=1).sort_values(ascending=False).values.tolist()[0]\n",
    "print(key,num)\n",
    "df['num'].loc[key]"
   ]
  },
  {
   "cell_type": "code",
   "execution_count": 83,
   "metadata": {
    "collapsed": true
   },
   "outputs": [],
   "source": [
    "matchdict = {}\n",
    "for s in list_src:\n",
    "    df_temp = df.drop(['num'], axis=1).applymap(lambda x: 1 if type(x) == str and x in s.lower() else 0)\n",
    "    key = df_temp.sum(axis=1).sort_values(ascending=False).index.tolist()[0]\n",
    "    num = df_temp.sum(axis=1).sort_values(ascending=False).values.tolist()[0]\n",
    "    if df['num'].loc[key] == num:\n",
    "        matchdict.setdefault(key, []).append(s)"
   ]
  },
  {
   "cell_type": "code",
   "execution_count": 84,
   "metadata": {
    "collapsed": false
   },
   "outputs": [
    {
     "name": "stdout",
     "output_type": "stream",
     "text": [
      "0\n",
      "SANDISK SDHC CARDS CLASS 10 - ULTRA - 80MB/S 32GB\n",
      "\n",
      "Sandisk Ultra 32Gb Sdhc Uhs I U1 (Up To 80Mb/S Read) Memory Card\n",
      "Sandisk 80Mb/S Class 10 Ultra Memory Micro Sd Card (Grey)32Gb  Intl\n",
      "Sandisk Ultra 32Gb Microsdhc Ush 1 80Mb/S With Adapter\n",
      "Sandisk Ultra 32Gb Sdhc Class10   80Mb/S\n",
      "Sandisk Ultra 32Gb Microsdhc Uhs I (Up To 80Mb/S Read) Memory Cardw/Adapter\n",
      "----------\n",
      "1\n",
      "SANDISK SDC CLASS 10 80MB/S SERIES 16GB\n",
      "\n",
      "Sandisk Ultra 16Gb Class 10 Sd 80Mb/S\n",
      "Sandisk Ultra 16Gb Microsdhc Uhs I Class 10 Card 80Mb/S With Sdadapter\n",
      "Sandisk 16Gb 16G Ultra Sd Sdhc Full Hd Video Memory Keretad 80Mb/S*Class 10\n",
      "Minicar Sandisk Ultra Microsdhc Uhs   I 16Gb High Speed 80Mb/Sclass 10 Sd Memory Card Adapter Blacksize:16Gb(Color:Black)(Int:16Gb)(Intl)   Intl\n",
      "Sandisk Micro Sdhc Class 10 Card With Adapter 80Mb/S 16Gbsdsqunc 016G Gn6Ma (Export)\n",
      "Sandisk Ultra High Speed Memory Card 80Mb/S Micro Sd Class 10 16Gb\n",
      "Sandisk Ultra 16Gb 80Mb/S C10 Sdhc Uhs I Memory Card\n",
      "----------\n",
      "2\n",
      "SANDISK CF EXTREME PRO 160MB/S SERIES 128GB\n",
      "\n",
      "Sandisk Extreme Pro 128Gb Cf Card 160Mb/S (Sdcfxps 128G X46)\n",
      "Sandisk Extreme Pro 160Mb/S Cf 128Gb   Black (Export)\n",
      "Sandisk Extreme Pro 128Gb Cf Card 160Mb/S\n",
      "----------\n",
      "3\n",
      "SANDISK CF ULTRA 50MB/S SERIES 32GB\n",
      "\n",
      "Sandisk Ultra 32Gb Cf Compact Flash 50Mb/S Memory Card\n",
      "----------\n",
      "4\n",
      "SANDISK CF EXTREME PRO 160MB/S SERIES 32GB\n",
      "\n",
      "Sandisk Extreme Pro 160Mb/S 32Gb Cf Memory Card\n",
      "Sandisk 32Gb Cf Extreme Pro (160Mb/S) (Export)\n",
      "Sandisk Extreme Pro 160Mb/S 32Gb Cf   Black (Export)\n",
      "Sandisk Extreme Pro Compactflash 160Mb/S Cf Memory Card   32Gb\n",
      "----------\n",
      "5\n",
      "SAMSUNG SDC EVO CLASS 10 100MB/S 64GB\n",
      "\n",
      "Samsung Evo 64Gb Class 10 U3 100Mb/S 4K Ultra Hd Microsd Card\n",
      "(2017 Model) Samsung Evo Plus 64Gb Microsd Up To 100Mb/S 4K U3Class 10 Memory Card\n",
      "Samsung 64Gb 100Mb/S (U3) Microsdxc Evo Select Memory Card Withadapter (Mb Me64Ga/Am)   Intl\n",
      "Samsung 100Mb/S (U3) Microsd Pro Select Memory Card With Adapter 64Gb (Mb Mf64Ga/Am)   Intl\n",
      "Gpl/ Samsung 64Gb 100Mb/S (U3) Microsdxc Evo Select Memory Cardwith Adapter (Mb Me64Ga/Am)/Ship From Usa   Intl\n",
      "Gpl/ Samsung 100Mb/S (U3) Microsd Evo Memory Card With Adapter 64Gb (Mb Mp64Ga/Am)/Ship From Usa   Intl\n",
      "----------\n",
      "6\n",
      "SAMSUNG SDC EVO PLUS CLASS 10 80MB/S 32GB\n",
      "\n",
      "Samsung Evo Plus 32Gb Micro Sd Memory Card W Sd Adapter (80Mb/S)\n",
      "Samsung Evo Plus 32Gb Class 10 Micro Sdhc Card Up To 80Mb/S Withadapter\n",
      "Gpl/ Samsung 32Gb Evo Plus Class 10 Micro Sdhc With Adapter 80Mb/S(Mb Mc32Da/Am)/Ship From Usa   Intl\n",
      "Gpl/ Samsung 32Gb 80Mb/S Evo Select Micro Sdhc Memory Card(Mb Me32Da/Am)/Ship From Usa   Intl\n",
      "----------\n",
      "7\n",
      "SANDISK SDC CLASS 10 EXTREME PRO UHS-II 275MB/S SERIES 128GB\n",
      "\n",
      "Sandisk Extreme Pro 128Gb Microsdxc 275Mb/S (Sdsqxpj 128G Gn6M3)\n",
      "----------\n",
      "8\n",
      "KINGSTON CF CARD 8GB\n",
      "\n",
      "Kingston Class 10 8Gb Micro Sd / Tf Card With Card Reader\n",
      "Kingston Sdhc Class 10 8Gb\n",
      "Kingston Abs 8Gb Large Capacity Class4 Tf Card (Black)\n",
      "Kingston 8G Micro Sd Tf Memory Card Class 10 (8Gb)\n",
      "----------\n",
      "9\n",
      "TOSHIBA SDC M302 EXCERIA CLASS 10 90MB/S SERIES 64GB\n",
      "\n",
      "Toshiba Exceria 64Gb Sdhc 90Mb/S Uhs I U3 Class 10 4Kthn N302R0640C4   Intl\n",
      "----------\n",
      "10\n",
      "SANDISK SDC CLASS 10 EXTREME PRO 95MB/S SERIES 128GB\n",
      "\n",
      "Sandisk Extreme Pro 128Gb Sdhc Uhs I 95Mb/S V30 U3 Class 10 4Kmemory Card Sd Card (Sdsdxxg 128G Gn4In) [Newest Version]  Intl\n",
      "Sandisk Extreme Pro 128Gb Microsdxc Uhs 1 U3 V30 (Up To 95Mb/Sread) Memory Card With Adapter\n",
      "----------\n",
      "11\n",
      "SANDISK SDC CLASS 10 EXTREME 100MB/S SERIES 128GB\n",
      "\n",
      "Sandisk Extreme Pro 128Gb Class 10 V30 A1 Up To 100Mb/S Microsdmemory Card Ultra 4K Camera Gopro Sdsqxcg 128G\n",
      "Sandisk Ultra 128Gb Class 10 A1 Microsd Memory Card Up To 100Mb/Scamera Smartphone Tablet Sdsquar 128G\n",
      "----------\n",
      "12\n",
      "SANDISK SDC CLASS 10 48MB/S SERIES 64GB\n",
      "\n",
      "Sandisk Ultra 64Gb Up To 48Mb/S Class 10 Microsd Memory Cardsdsqunb 064G\n",
      "Original Sandisk Ultra Microsd 64Gb 48Mb/S   Singapore Seller  Ready Stock\n",
      "Sandisk Ultra 64Gb Class 10 Microsd 48Mb/S\n",
      "Sandisk Ultra High Speed Memory Card 48Mb/S Micro Sd Class 10 64Gb\n",
      "----------\n",
      "13\n",
      "KINGSTON CF CARD 4GB\n",
      "\n",
      "Kingston Microsdxc 64Gb Uhs I U3 90R/80W Memory Card\n",
      "Kingston Class 10 8Gb 16Gb 32Gb 64Gb Microsd Tf Flash Memory Card48Mb/S Maximal Speed With Card Adapter\n",
      "Kingston Tf/Sd Card Memory Card Class 10 4Gb(Export)\n",
      "Kingston Microsdhc Card Class 4 4Gb(Export)\n",
      "Kingston Sdhc Class 4 4Gb Flash Memory Card(Export)\n",
      "Kingston Class 10 8Gb 16Gb 32Gb 64Gb Microsd Tf Flash Memory Card48Mb/S Maximal Speed With Card Adapter   Intl\n",
      "Kingston Class 4 4Gb Micro Sdhc Flash Memory Card(Export)\n",
      "Kingston Class 10 64Gb Microsd Tf Flash Memory Card 48Mb/S Maximalspeed With Card Adapter   Intl\n",
      "Kingston Class 10 8Gb 16Gb 32Gb 64Gb Microsd Tf Flash Memory Card48Mb/S Maximal Speed With Card Adapter   Intl\n",
      "----------\n",
      "14\n",
      "SANDISK CF ULTRA 50MB/S SERIES 16GB\n",
      "\n",
      "Sandisk Ultra 50Mb/S 16Gb Cf Memory Card\n",
      "----------\n",
      "15\n",
      "SANDISK SDHC CARDS CLASS 10 EXTREME 90MB/S SERIES  256GB\n",
      "\n",
      "Sandisk Extreme Pro Sd Uhs I Card 256Gb (Sdsdxxg 256G X46)95/90Mb/S Read/Write Speed  Video Speed C10  U3  V30\n",
      "----------\n",
      "16\n",
      "SANDISK SDHC CARDS CLASS 10 EXTREME 90MB/S SERIES  128GB\n",
      "\n",
      "Sandisk Extreme 128Gb Sdxc 90Mb/S (Sdsdxvf 128G Gncin)\n",
      "Sandisk Extreme Pro Sd Uhs I Card 128Gb 95/90Mb/S Read/Write Speed Video Speed C10  U3  V30\n",
      "----------\n",
      "17\n",
      "SANDISK SDHC CARDS CLASS 10 - ULTRA - 80MB/S 64GB\n",
      "\n",
      "Sandisk Ultra Microsdxc Class 10 64Gb Sdsqunc 064G Gn6Ma 80Mb/S\n",
      "Sandisk Micro Sd Class 10 Ultra 80Mb/S 64Gb Memory Card\n",
      "Sandisk Ultra 64Gb Sdxc Uhs I U1 (Up To 80Mb/S Read) Memory Card\n",
      "Sandisk Ultra 64Gb Microsdxc Uhs I (Up To 80Mb/S Read) Memory Card W/Adapter\n",
      "----------\n",
      "18\n",
      "SANDISK SDHC CARDS CLASS 10 EXTREME 90MB/S SERIES  64GB\n",
      "\n",
      "Sandisk Extreme 64Gb Sdxc W40Mb/S R90Mb/S (Sdsdxve 064G Gncin)\n",
      "Sandisk Extreme Pro Sd Uhs I 64Gb Card (Sdsk Sdsdxxg 064G X46)95/90Mb/S Read/Write Speed Video Speed C10 U3 V30\n",
      "Sandisk Extreme 64Gb Sdxc Uhs I U3 V30 (Up To 90Mb/S Read) Memorycard\n",
      "----------\n",
      "19\n",
      "SANDISK SDC CLASS 10 48MB/S SERIES 16GB\n",
      "\n",
      "Original Sandisk Ultra Microsd 16Gb 48Mb/S   Singapore Seller  Ready Stock\n",
      "Sandisk 16Gb 16G Ultra Sd Sdhc Full Hd Video Memory Keretad 48Mb/S*Class 10 (Export)\n",
      "----------\n",
      "20\n",
      "TOSHIBA W-03 FLASHAIR 32GB\n",
      "\n",
      "Toshiba Microsd Exceria Pro 32Gb U3 With Sd Adaptor Thn M401S0320C2  Intl\n",
      "Toshiba Sdhc U1 Memory Card 32Gb Class 10 40Mb/S (Export)   Intl\n",
      "Toshiba Flashair W 03 32Gb Wireless Sd Memory Card (White) (Export)  Intl\n",
      "Toshiba Flashair Iii 32Gb W03 Wireless Wifi Sdhc Class 10 Memorycard\n",
      "Gpl/ Toshiba 32Gb Flashair Iii Wireless Sd Memory Card  White /Shipfrom Usa   Intl\n",
      "Toshiba Class 10 Flashair 32Gb Wi Fi Sd Memory Card\n",
      "Toshiba Sd C032Gr7Ar048A 32Gb Micro Sdhc / Tf Memory Card (White)(Class 10 Uhs)\n",
      "----------\n",
      "21\n",
      "SAMSUNG SDC EVO PLUS CLASS 10 95MB/S 256GB\n",
      "\n",
      "Samsung 256Gb 95Mb/S Microsdxc Evo Select Memory Card With Adapter(Mb Me256Da/Am)\n",
      "Samsung 256Gb 95Mb/S Microsdxc Evo Select Memory Card With Adapter(Mb Me256Da/Am)   Intl\n",
      "Gpl/ Samsung 256Gb 95Mb/S Microsdxc Evo Select Memory Card Withadapter (Mb Me256Da/Am)/Ship From Usa   Intl\n",
      "----------\n",
      "22\n",
      "SANDISK CF EXTREME PRO 160MB/S SERIES 64GB\n",
      "\n",
      "Sandisk Extreme Pro 64Gb Cf Card 160Mb/S (Sdcfxps 064G X46)\n",
      "Sandisk 64Gb Cf Extreme Pro (160Mb/S) (Export)\n",
      "Sandisk Extreme Pro 160Mb/S 64Gb Cf   Black (Export)\n",
      "----------\n",
      "23\n",
      "SANDISK SDHC CARDS CLASS 10 EXTREME PRO 300MB/S SERIES 128GB\n",
      "\n",
      "Sandisk Extreme Pro 128Gb Class 10 Sd 300Mb/S\n",
      "----------\n",
      "24\n",
      "SANDISK SDC CLASS 10 48MB/S SERIES 32GB\n",
      "\n",
      "Original Sandisk Ultra Microsd 32Gb 48Mb/S   Singapore Seller  Ready Stock\n",
      "Sandisk Micro Sd 32Gb Ultra Class 10 (48Mb/S)\n",
      "Sandisk Ultra 32Gb Class 10 Sd 48Mb/S\n",
      "Sandisk 32Gb 48Mb/S Microsdhc Uhs I\n",
      "Sandisk Ultra 32Gb Microsdhc Uhs I (Up To 48Mb/S Read) Memory Card(Twin Pack Bundle)\n",
      "Sandisk Ultra 32Gb Sdhc (Sdsdunb 032G Gn3In) C10 Uhs I 48Mb/S\n",
      "----------\n",
      "25\n",
      "SANDISK SDC CLASS 10 EXTREME 100MB/S SERIES 64GB\n",
      "\n",
      "Sandisk Extreme Pro 64Gb Class 10 V30 A1 Up To 100Mb/S Microsdmemory Card Ultra 4K Camera Gopro Sdsqxcg 64G\n",
      "----------\n",
      "26\n",
      "SANDISK SDHC CARDS CLASS 4 8GB\n",
      "\n",
      "[Brand New] Sandisk 8Gb Extreme Pro Microsdhc Uhs I Card\n",
      "Sandisk Class 4 Microsd 8Gb\n",
      "Sandisk 8Gb Cf Extreme (60Mb/S) (Export)\n",
      "Sandisk 8Gb Micro Sdhc Memory Card (Export)\n",
      "Sandisk 8Gb Sdhc Extreme (30Mb/S) (Export)\n",
      "Sandisk 8Gb Ultra Micro Sdhc Uhs I (With Adapter) (Export)\n",
      "Sandisk Ultra Micro Sdhc Uhs I With Adapter 8Gb   Grey (Export)\n",
      "Sandisk Extreme Sdxc Memory Card 8Gb\n",
      "Sandisk Micro Sdhc Memory Card 8Gb   Black (Export)\n",
      "Sandisk Micro Sd Class 4 8Gb\n",
      "Sandisk Microsdhc Memory Card Class4 8Gb (Export) (Intl)\n",
      "Sandisk 8Gb Class 4 Sdhc Card\n",
      "Sandisk Ultra 8Gb Sdhc Memory Card Class 10\n",
      "----------\n",
      "27\n",
      "SANDISK CF EXTREME 120MB/S SERIES 64GB\n",
      "\n",
      "Sandisk Extreme Compactflash 64Gb (120Mb/S) Cf Memory Card\n",
      "----------\n",
      "28\n",
      "SANDISK SDHC CARDS CLASS 10 EXTREME PRO 95MB/S SERIES 256GB\n",
      "\n",
      "Sandisk Extreme Pro Sdxc 256Gb 95Mb/S\n",
      "----------\n",
      "29\n",
      "SANDISK SDHC CARDS CLASS 10 EXTREME PRO 95MB/S SERIES 64GB\n",
      "\n",
      "Sandisk Extreme Pro 64Gb Sdhc Uhs I 95Mb/S V30 U3 Class 10 4Kmemory Card Sd Card (Sdsdxxg 064G Gn4In) [Newest Version]  Intl\n",
      "Sandisk Sd Extreme Pro 64Gb Uhs I/U3 Sdhc Flash Memory Card With Upto 95Mb/S(Export)(Intl)\n",
      "(Export) Sandisk 64Gb Sdxc Extreme Pro (95Mb/S)\n",
      "Sandisk Sdxc Extreme Pro 95Mb/S 64Gb   Black (Export)\n",
      "Sandisk 64Gb Microsd Extreme Pro U3 Uhs 1 (Qxp) 95Mb/S\n",
      "Sandisk Extreme Pro 64Gb Sdxc Uhs I U3 V30 (Up To 95Mb/S Read)Memory Card\n",
      "----------\n",
      "30\n",
      "SANDISK CF EXTREME PRO 160MB/S SERIES 16GB\n",
      "\n",
      "Sandisk 16Gb Cf Extreme Pro (160Mb/S) (Export)\n",
      "Sandisk Extreme Pro 160Mb/S Cf 16Gb   Black (Export)\n",
      "----------\n",
      "31\n",
      "SANDISK SDC CLASS 10 EXTREME PRO 95MB/S SERIES 16GB\n",
      "\n",
      "Sandisk Sd Extreme Pro 16Gb Uhs I/U3 Sdhc Flash Memory Card With Upto 95Mb/S(Export)(Intl)\n",
      "(Export) Sandisk 16Gb Sdhc Extreme Pro (95Mb/S)\n",
      "Sandisk Sdhc Extreme Pro 95Mb/S 16Gb   Black (Export)\n",
      "----------\n",
      "32\n",
      "SANDISK SDHC CARDS CLASS 10 EXTREME 90MB/S SERIES  32GB\n",
      "\n",
      "Sandisk Extreme 32Gb Microsdhc Uhs 1 Card With Adapter 90Mb/S\n",
      "----------\n",
      "33\n",
      "SANDISK CF EXTREME 120MB/S SERIES 16GB\n",
      "\n",
      "Sandisk 16Gb Cf Extreme (120Mb/S) (Export)\n",
      "----------\n",
      "34\n",
      "SAMSUNG SDC EVO CLASS 10 100MB/S 128GB\n",
      "\n",
      "(2017 Model) Samsung Evo Plus 128Gb Microsd Up To 100Mb/S U3 4Kclass 10 Memory Card\n",
      "Gpl/ Samsung 128Gb 100Mb/S (U3) Microsd Evo Select Memory Card Withadapter (Mb Me128Ga/Am)/Ship From Usa   Intl\n",
      "----------\n",
      "35\n",
      "SANDISK SDC CLASS 10 EXTREME PRO 95MB/S SERIES 32GB\n",
      "\n",
      "Sandisk Extreme Pro 32Gb Sdhc Uhs I 95Mb/S V30 U3 Class 10 4Kmemory Card Sd Card (Sdsdxxg 032G Ancin) [Newest Version]   Intl\n",
      "Sandisk 32Gb Extreme Pro Ush I Sdhc Class10   95Mb/S(Sdsdxpa 032G X46)\n",
      "Sandisk 32Gb Sdhc Extreme Pro (95Mb/S) (Export)\n",
      "Sandisk Sdhc Extreme Pro 95Mb/S 32Gb   Black (Export)\n",
      "----------\n",
      "36\n",
      "SANDISK CF EXTREME 120MB/S SERIES 32GB\n",
      "\n",
      "Sandisk 32Gb Cf Extreme (120Mb/S) (Export)\n",
      "Sandisk Extreme Compact Flash Cf Memory Card 120Mb/S 32Gb\n",
      "----------\n",
      "37\n",
      "SANDISK SDHC CARDS CLASS 10 EXTREME 90MB/S SERIES  16GB\n",
      "\n",
      "Sandisk Extreme 16Gb Microsdhc Uhs 1 Card With Adapter 90Mb/S\n",
      "----------\n",
      "38\n",
      "SANDISK SDC CLASS 10 80MB/S SERIES 128GB\n",
      "\n",
      "Sandisk Ultra 128Gb Microsdxc Uhs I Class 10 Card 80Mb/S With Sdadapter\n",
      "Sandisk Ultra 128Gb Microsdxc 80Mb/S Class 10 (Sdsqunc 128G Gn6Ma)+ Sd Adapter\n",
      "Sandisk Extreme 128Gb U3/Uhs I Sdxc With 4K Ultra Hd  Up To 80Mb/Sread; 60Mb/S Write  Sdsdxn 128G G46 [Newest Version] (Export)\n",
      "Sandisk Ultra 128Gb Microsdxc Uhs I (Up To 80Mb/S Read) Memory Card W/Adapter\n",
      "----------\n",
      "39 128\n"
     ]
    }
   ],
   "source": [
    "i = 0\n",
    "tot = 0\n",
    "for key, val in matchdict.items():\n",
    "    print(i)\n",
    "    print(key)\n",
    "    tot += len(val)\n",
    "    for v in val:\n",
    "        print(v)\n",
    "    print('-'*10)\n",
    "    i += 1\n",
    "print(i, tot)"
   ]
  }
 ],
 "metadata": {
  "kernelspec": {
   "display_name": "Python 3",
   "language": "python",
   "name": "python3"
  },
  "language_info": {
   "codemirror_mode": {
    "name": "ipython",
    "version": 3
   },
   "file_extension": ".py",
   "mimetype": "text/x-python",
   "name": "python",
   "nbconvert_exporter": "python",
   "pygments_lexer": "ipython3",
   "version": "3.5.3"
  }
 },
 "nbformat": 4,
 "nbformat_minor": 2
}
