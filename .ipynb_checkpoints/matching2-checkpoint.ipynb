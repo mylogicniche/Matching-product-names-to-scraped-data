{
 "cells": [
  {
   "cell_type": "code",
   "execution_count": 49,
   "metadata": {
    "collapsed": false
   },
   "outputs": [],
   "source": [
    "from fuzzywuzzy import fuzz\n",
    "import pandas as pd\n",
    "from numpy import triu, ones\n",
    "import numpy as np"
   ]
  },
  {
   "cell_type": "code",
   "execution_count": 50,
   "metadata": {
    "collapsed": true
   },
   "outputs": [],
   "source": [
    "with open(\"product_list2.csv\", \"r\") as fp:\n",
    "    data_tgt = fp.readlines()\n",
    "\n",
    "df = pd.read_csv(\"scraped list.csv\")\n",
    "    \n",
    "list_tgt = [x.replace('\"',\"\") for x in list(data_tgt)]\n",
    "list_src = df['product-name'].values.tolist()#[:500]"
   ]
  },
  {
   "cell_type": "code",
   "execution_count": 51,
   "metadata": {
    "collapsed": true
   },
   "outputs": [],
   "source": [
    "def clean(s):\n",
    "    d = {}\n",
    "    s = s.lower()\n",
    "    sl = s.split(\" \")\n",
    "    d.update({'brand': sl[0], 'type': sl[1]})\n",
    "    second = sl[2:]\n",
    "    for part in second:\n",
    "        if \"mb/s\" in part:\n",
    "            d.update({'speed':part})\n",
    "        if \"gb\" in part:\n",
    "            d.update({'capacity':part[0:-1].replace('\\n', \"\")})\n",
    "            \n",
    "    return d"
   ]
  },
  {
   "cell_type": "code",
   "execution_count": 52,
   "metadata": {
    "collapsed": true
   },
   "outputs": [],
   "source": [
    "prodict = {}\n",
    "for l in list_tgt:\n",
    "    prodict.update({l: clean(l)})"
   ]
  },
  {
   "cell_type": "code",
   "execution_count": 53,
   "metadata": {
    "collapsed": false
   },
   "outputs": [
    {
     "data": {
      "text/html": [
       "<div>\n",
       "<style>\n",
       "    .dataframe thead tr:only-child th {\n",
       "        text-align: right;\n",
       "    }\n",
       "\n",
       "    .dataframe thead th {\n",
       "        text-align: left;\n",
       "    }\n",
       "\n",
       "    .dataframe tbody tr th {\n",
       "        vertical-align: top;\n",
       "    }\n",
       "</style>\n",
       "<table border=\"1\" class=\"dataframe\">\n",
       "  <thead>\n",
       "    <tr style=\"text-align: right;\">\n",
       "      <th></th>\n",
       "      <th>brand</th>\n",
       "      <th>capacity</th>\n",
       "      <th>speed</th>\n",
       "      <th>type</th>\n",
       "    </tr>\n",
       "  </thead>\n",
       "  <tbody>\n",
       "    <tr>\n",
       "      <th>KINGSTON CF CARD 4GB\\n</th>\n",
       "      <td>kingston</td>\n",
       "      <td>4gb</td>\n",
       "      <td>NaN</td>\n",
       "      <td>cf</td>\n",
       "    </tr>\n",
       "    <tr>\n",
       "      <th>KINGSTON CF CARD 8GB\\n</th>\n",
       "      <td>kingston</td>\n",
       "      <td>8gb</td>\n",
       "      <td>NaN</td>\n",
       "      <td>cf</td>\n",
       "    </tr>\n",
       "    <tr>\n",
       "      <th>KINGSTON SDC CLASS 10 80MB/S 128GB\\n</th>\n",
       "      <td>kingston</td>\n",
       "      <td>128gb</td>\n",
       "      <td>80mb/s</td>\n",
       "      <td>sdc</td>\n",
       "    </tr>\n",
       "    <tr>\n",
       "      <th>KINGSTON SDC CLASS 10 80MB/S 16GB\\n</th>\n",
       "      <td>kingston</td>\n",
       "      <td>16gb</td>\n",
       "      <td>80mb/s</td>\n",
       "      <td>sdc</td>\n",
       "    </tr>\n",
       "    <tr>\n",
       "      <th>KINGSTON SDC CLASS 10 80MB/S 256MB\\n</th>\n",
       "      <td>kingston</td>\n",
       "      <td>NaN</td>\n",
       "      <td>80mb/s</td>\n",
       "      <td>sdc</td>\n",
       "    </tr>\n",
       "  </tbody>\n",
       "</table>\n",
       "</div>"
      ],
      "text/plain": [
       "                                         brand capacity   speed type\n",
       "KINGSTON CF CARD 4GB\\n                kingston      4gb     NaN   cf\n",
       "KINGSTON CF CARD 8GB\\n                kingston      8gb     NaN   cf\n",
       "KINGSTON SDC CLASS 10 80MB/S 128GB\\n  kingston    128gb  80mb/s  sdc\n",
       "KINGSTON SDC CLASS 10 80MB/S 16GB\\n   kingston     16gb  80mb/s  sdc\n",
       "KINGSTON SDC CLASS 10 80MB/S 256MB\\n  kingston      NaN  80mb/s  sdc"
      ]
     },
     "execution_count": 53,
     "metadata": {},
     "output_type": "execute_result"
    }
   ],
   "source": [
    "df = pd.DataFrame(prodict).T\n",
    "df.head()"
   ]
  },
  {
   "cell_type": "code",
   "execution_count": 54,
   "metadata": {
    "collapsed": false
   },
   "outputs": [
    {
     "data": {
      "text/plain": [
       "brand        0\n",
       "capacity     1\n",
       "speed       19\n",
       "type         0\n",
       "dtype: int64"
      ]
     },
     "execution_count": 54,
     "metadata": {},
     "output_type": "execute_result"
    }
   ],
   "source": [
    "df.isnull().sum()"
   ]
  },
  {
   "cell_type": "code",
   "execution_count": 55,
   "metadata": {
    "collapsed": false
   },
   "outputs": [],
   "source": [
    "df['num'] = df.notnull().sum(axis=1)"
   ]
  },
  {
   "cell_type": "code",
   "execution_count": 56,
   "metadata": {
    "collapsed": false
   },
   "outputs": [
    {
     "data": {
      "text/html": [
       "<div>\n",
       "<style>\n",
       "    .dataframe thead tr:only-child th {\n",
       "        text-align: right;\n",
       "    }\n",
       "\n",
       "    .dataframe thead th {\n",
       "        text-align: left;\n",
       "    }\n",
       "\n",
       "    .dataframe tbody tr th {\n",
       "        vertical-align: top;\n",
       "    }\n",
       "</style>\n",
       "<table border=\"1\" class=\"dataframe\">\n",
       "  <thead>\n",
       "    <tr style=\"text-align: right;\">\n",
       "      <th></th>\n",
       "      <th>brand</th>\n",
       "      <th>capacity</th>\n",
       "      <th>speed</th>\n",
       "      <th>type</th>\n",
       "      <th>num</th>\n",
       "    </tr>\n",
       "  </thead>\n",
       "  <tbody>\n",
       "    <tr>\n",
       "      <th>KINGSTON CF CARD 4GB\\n</th>\n",
       "      <td>kingston</td>\n",
       "      <td>4gb</td>\n",
       "      <td>NaN</td>\n",
       "      <td>cf</td>\n",
       "      <td>3</td>\n",
       "    </tr>\n",
       "    <tr>\n",
       "      <th>KINGSTON CF CARD 8GB\\n</th>\n",
       "      <td>kingston</td>\n",
       "      <td>8gb</td>\n",
       "      <td>NaN</td>\n",
       "      <td>cf</td>\n",
       "      <td>3</td>\n",
       "    </tr>\n",
       "    <tr>\n",
       "      <th>KINGSTON SDC CLASS 10 80MB/S 128GB\\n</th>\n",
       "      <td>kingston</td>\n",
       "      <td>128gb</td>\n",
       "      <td>80mb/s</td>\n",
       "      <td>sdc</td>\n",
       "      <td>4</td>\n",
       "    </tr>\n",
       "    <tr>\n",
       "      <th>KINGSTON SDC CLASS 10 80MB/S 16GB\\n</th>\n",
       "      <td>kingston</td>\n",
       "      <td>16gb</td>\n",
       "      <td>80mb/s</td>\n",
       "      <td>sdc</td>\n",
       "      <td>4</td>\n",
       "    </tr>\n",
       "    <tr>\n",
       "      <th>KINGSTON SDC CLASS 10 80MB/S 256MB\\n</th>\n",
       "      <td>kingston</td>\n",
       "      <td>NaN</td>\n",
       "      <td>80mb/s</td>\n",
       "      <td>sdc</td>\n",
       "      <td>3</td>\n",
       "    </tr>\n",
       "  </tbody>\n",
       "</table>\n",
       "</div>"
      ],
      "text/plain": [
       "                                         brand capacity   speed type  num\n",
       "KINGSTON CF CARD 4GB\\n                kingston      4gb     NaN   cf    3\n",
       "KINGSTON CF CARD 8GB\\n                kingston      8gb     NaN   cf    3\n",
       "KINGSTON SDC CLASS 10 80MB/S 128GB\\n  kingston    128gb  80mb/s  sdc    4\n",
       "KINGSTON SDC CLASS 10 80MB/S 16GB\\n   kingston     16gb  80mb/s  sdc    4\n",
       "KINGSTON SDC CLASS 10 80MB/S 256MB\\n  kingston      NaN  80mb/s  sdc    3"
      ]
     },
     "execution_count": 56,
     "metadata": {},
     "output_type": "execute_result"
    }
   ],
   "source": [
    "df.head()"
   ]
  },
  {
   "cell_type": "code",
   "execution_count": 57,
   "metadata": {
    "collapsed": false
   },
   "outputs": [
    {
     "data": {
      "text/plain": [
       "str"
      ]
     },
     "execution_count": 57,
     "metadata": {},
     "output_type": "execute_result"
    }
   ],
   "source": [
    "type(df.iloc[0,0])"
   ]
  },
  {
   "cell_type": "code",
   "execution_count": 64,
   "metadata": {
    "collapsed": false
   },
   "outputs": [
    {
     "name": "stdout",
     "output_type": "stream",
     "text": [
      "Samsung Evo Plus Micro Sdxc Class 10 Uhs 1 64G Memory Card\n",
      "SAMSUNG SDC EVO CLASS 10 100MB/S 128GB\n",
      " 1\n"
     ]
    },
    {
     "data": {
      "text/plain": [
       "4"
      ]
     },
     "execution_count": 64,
     "metadata": {},
     "output_type": "execute_result"
    }
   ],
   "source": [
    "l = list_src[5]\n",
    "print(l)\n",
    "df_temp = df.drop(['num'], axis=1).applymap(lambda x: 1 if type(x) == str and x in l.lower() else 0)\n",
    "key = df_temp.sum(axis=1).sort_values(ascending=False).index.tolist()[0]\n",
    "num = df_temp.sum(axis=1).sort_values(ascending=False).values.tolist()[0]\n",
    "print(key,num)\n",
    "df['num'].loc[key]"
   ]
  },
  {
   "cell_type": "code",
   "execution_count": 59,
   "metadata": {
    "collapsed": true
   },
   "outputs": [],
   "source": [
    "matchdict = {}\n",
    "for s in list_src:\n",
    "    df_temp = df.drop(['num'], axis=1).applymap(lambda x: 1 if type(x) == str and x in s.lower() else 0)\n",
    "    key = df_temp.sum(axis=1).sort_values(ascending=False).index.tolist()[0]\n",
    "    num = df_temp.sum(axis=1).sort_values(ascending=False).values.tolist()[0]\n",
    "    if df['num'].loc[key] == num:\n",
    "        matchdict.setdefault(key, []).append(s)"
   ]
  },
  {
   "cell_type": "code",
   "execution_count": 72,
   "metadata": {
    "collapsed": false
   },
   "outputs": [
    {
     "name": "stdout",
     "output_type": "stream",
     "text": [
      "0\n",
      "SANDISK SDHC CARDS CLASS 10 - ULTRA - 80MB/S 32GB\n",
      "\n",
      "Sandisk Ultra 32Gb Sdhc Uhs I U1 (Up To 80Mb/S Read) Memory Card\n",
      "Sandisk Ultra 32Gb Microsdhc Ush 1 80Mb/S With Adapter\n",
      "Sandisk Ultra 32Gb Sdhc Class10   80Mb/S\n",
      "Sandisk Ultra 32Gb Microsdhc Uhs I (Up To 80Mb/S Read) Memory Cardw/Adapter\n",
      "----------\n",
      "1\n",
      "SANDISK CF EXTREME 120MB/S SERIES 16GB\n",
      "\n",
      "Sandisk 16Gb Cf Extreme (120Mb/S) (Export)\n",
      "----------\n",
      "2\n",
      "SANDISK CF EXTREME PRO 160MB/S SERIES 64GB\n",
      "\n",
      "Sandisk Extreme Pro 64Gb Cf Card 160Mb/S (Sdcfxps 064G X46)\n",
      "Sandisk 64Gb Cf Extreme Pro (160Mb/S) (Export)\n",
      "Sandisk Extreme Pro 160Mb/S 64Gb Cf   Black (Export)\n",
      "----------\n",
      "3\n",
      "SANDISK CF EXTREME PRO 160MB/S SERIES 128GB\n",
      "\n",
      "Sandisk Extreme Pro 128Gb Cf Card 160Mb/S (Sdcfxps 128G X46)\n",
      "Sandisk Extreme Pro 160Mb/S Cf 128Gb   Black (Export)\n",
      "Sandisk Extreme Pro 128Gb Cf Card 160Mb/S\n",
      "----------\n",
      "4\n",
      "SANDISK SDHC CARDS CLASS 10 - ULTRA - 80MB/S 16GB\n",
      "\n",
      "Sandisk Ultra 16Gb Microsdhc Uhs I Class 10 Card 80Mb/S With Sdadapter\n",
      "Sandisk 16Gb 16G Ultra Sd Sdhc Full Hd Video Memory Keretad 80Mb/S*Class 10\n",
      "Minicar Sandisk Ultra Microsdhc Uhs   I 16Gb High Speed 80Mb/Sclass 10 Sd Memory Card Adapter Blacksize:16Gb(Color:Black)(Int:16Gb)(Intl)   Intl\n",
      "Sandisk Micro Sdhc Class 10 Card With Adapter 80Mb/S 16Gbsdsqunc 016G Gn6Ma (Export)\n",
      "Sandisk Ultra 16Gb 80Mb/S C10 Sdhc Uhs I Memory Card\n",
      "----------\n",
      "5\n",
      "SANDISK CF ULTRA 50MB/S SERIES 32GB\n",
      "\n",
      "Sandisk Ultra 32Gb Cf Compact Flash 50Mb/S Memory Card\n",
      "----------\n",
      "6\n",
      "SANDISK SDHC CARDS CLASS 4 8GB\n",
      "\n",
      "[Brand New] Sandisk 8Gb Extreme Pro Microsdhc Uhs I Card\n",
      "Sandisk Extreme 128Gb Sdhc Uhs I Card (Sdsdxve 128G) [Newestversion] – Intl\n",
      "Sandisk 8Gb Micro Sdhc Memory Card (Export)\n",
      "Sandisk 8Gb Sdhc Extreme (30Mb/S) (Export)\n",
      "(Export) Sandisk 8Gb Sdhc Extreme Pro (95Mb/S)\n",
      "Sandisk 8Gb Ultra Micro Sdhc Uhs I (With Adapter) (Export)\n",
      "Sandisk Ultra Micro Sdhc Uhs I With Adapter 8Gb   Grey (Export)\n",
      "Sandisk Micro Sdhc Memory Card 8Gb   Black (Export)\n",
      "Sandisk Sdhc Extreme Pro 95Mb/S 8Gb   Black (Export)\n",
      "Sandisk Microsdhc Memory Card Class4 8Gb (Export) (Intl)\n",
      "Sandisk 8Gb Class 4 Sdhc Card\n",
      "Sandisk Ultra 8Gb Sdhc Memory Card Class 10\n",
      "----------\n",
      "7\n",
      "SANDISK CF EXTREME PRO 160MB/S SERIES 32GB\n",
      "\n",
      "Sandisk Extreme Pro 160Mb/S 32Gb Cf Memory Card\n",
      "Sandisk 32Gb Cf Extreme Pro (160Mb/S) (Export)\n",
      "Sandisk Extreme Pro 160Mb/S 32Gb Cf   Black (Export)\n",
      "Sandisk Extreme Pro Compactflash 160Mb/S Cf Memory Card   32Gb\n",
      "----------\n",
      "8\n",
      "SANDISK SDHC CARDS CLASS 4 16GB\n",
      "\n",
      "Sandisk Sd Extreme Pro 16Gb Uhs I/U3 Sdhc Flash Memory Card With Upto 95Mb/S(Export)(Intl)\n",
      "(Export) Sandisk 16Gb Sdhc Extreme Pro (95Mb/S)\n",
      "Sandisk Sdhc Extreme Pro 95Mb/S 16Gb   Black (Export)\n",
      "----------\n",
      "9\n",
      "SANDISK SDHC CARDS CLASS 10 EXTREME PRO 95MB/S SERIES 64GB\n",
      "\n",
      "Sandisk Extreme Pro 64Gb Sdhc Uhs I 95Mb/S V30 U3 Class 10 4Kmemory Card Sd Card (Sdsdxxg 064G Gn4In) [Newest Version]  Intl\n",
      "Sandisk Sd Extreme Pro 64Gb Uhs I/U3 Sdhc Flash Memory Card With Upto 95Mb/S(Export)(Intl)\n",
      "----------\n",
      "10\n",
      "SANDISK SDC CLASS 10 HIGH ENDURANCE SERIES 64GB\n",
      "\n",
      "Sandisk Extreme Pro Sdcfxps 064G X46 Compact Flash 64Gb Memory Card(Black)\n",
      "----------\n",
      "11\n",
      "SANDISK SDHC CARDS CLASS 10 EXTREME 90MB/S SERIES  32GB\n",
      "\n",
      "Sandisk Extreme 32Gb Microsdhc Uhs 1 Card With Adapter 90Mb/S\n",
      "----------\n",
      "12\n",
      "SANDISK CF EXTREME 120MB/S SERIES 64GB\n",
      "\n",
      "Sandisk Extreme Compactflash 64Gb (120Mb/S) Cf Memory Card\n",
      "----------\n",
      "13\n",
      "KINGSTON SDHC CLASS 4 32GB\n",
      "\n",
      "Kingston Microsdhc 32Gb Uhs I U3 90R/80W Memory Card\n",
      "Kingston Digital 32Gb Sdhc Class 10 Uhs I 45R/10W Flash Memory Card(Sd10Vg2/32Gb) (Export)\n",
      "Kingston Micro Sdhc 32Gb Class 10 Uhs 1 90R/45W\n",
      "----------\n",
      "14\n",
      "SANDISK SDHC CARDS CLASS 10 EXTREME PRO 95MB/S SERIES 32GB\n",
      "\n",
      "Sandisk Extreme Pro 32Gb Sdhc Uhs I 95Mb/S V30 U3 Class 10 4Kmemory Card Sd Card (Sdsdxxg 032G Ancin) [Newest Version]   Intl\n",
      "Sandisk 32Gb Extreme Pro Ush I Sdhc Class10   95Mb/S(Sdsdxpa 032G X46)\n",
      "Sandisk 32Gb Sdhc Extreme Pro (95Mb/S) (Export)\n",
      "Sandisk Sdhc Extreme Pro 95Mb/S 32Gb   Black (Export)\n",
      "----------\n",
      "15\n",
      "KINGSTON SDHC CLASS 4 8GB\n",
      "\n",
      "Kingston Sdhc Class 10 8Gb\n",
      "----------\n",
      "16\n",
      "SANDISK SDHC CARDS CLASS 10 EXTREME 90MB/S SERIES  16GB\n",
      "\n",
      "Sandisk Extreme 16Gb Microsdhc Uhs 1 Card With Adapter 90Mb/S\n",
      "----------\n",
      "17\n",
      "SANDISK CF ULTRA 50MB/S SERIES 16GB\n",
      "\n",
      "Sandisk Ultra 50Mb/S 16Gb Cf Memory Card\n",
      "----------\n",
      "18\n",
      "SANDISK CF EXTREME 120MB/S SERIES 32GB\n",
      "\n",
      "Sandisk 32Gb Cf Extreme (120Mb/S) (Export)\n",
      "Sandisk Extreme Compact Flash Cf Memory Card 120Mb/S 32Gb\n",
      "----------\n",
      "19\n",
      "SANDISK CF EXTREME PRO 160MB/S SERIES 16GB\n",
      "\n",
      "Sandisk 16Gb Cf Extreme Pro (160Mb/S) (Export)\n",
      "Sandisk Extreme Pro 160Mb/S Cf 16Gb   Black (Export)\n",
      "----------\n",
      "20\n",
      "SANDISK SDHC CARDS CLASS 10 EXTREME PRO 95MB/S SERIES 128GB\n",
      "\n",
      "Sandisk Extreme Pro 128Gb Sdhc Uhs I 95Mb/S V30 U3 Class 10 4Kmemory Card Sd Card (Sdsdxxg 128G Gn4In) [Newest Version]  Intl\n",
      "----------\n",
      "21 56\n"
     ]
    }
   ],
   "source": [
    "i = 0\n",
    "tot = 0\n",
    "for key, val in matchdict.items():\n",
    "    print(i)\n",
    "    print(key)\n",
    "    tot += len(val)\n",
    "    for v in val:\n",
    "        print(v)\n",
    "    print('-'*10)\n",
    "    i += 1\n",
    "print(i, tot)"
   ]
  }
 ],
 "metadata": {
  "kernelspec": {
   "display_name": "Python 3",
   "language": "python",
   "name": "python3"
  },
  "language_info": {
   "codemirror_mode": {
    "name": "ipython",
    "version": 3
   },
   "file_extension": ".py",
   "mimetype": "text/x-python",
   "name": "python",
   "nbconvert_exporter": "python",
   "pygments_lexer": "ipython3",
   "version": "3.5.3"
  }
 },
 "nbformat": 4,
 "nbformat_minor": 2
}
