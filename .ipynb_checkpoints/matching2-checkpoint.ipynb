{
 "cells": [
  {
   "cell_type": "code",
   "execution_count": 39,
   "metadata": {},
   "outputs": [],
   "source": [
    "from fuzzywuzzy import fuzz\n",
    "import pandas as pd\n",
    "from numpy import triu, ones\n",
    "import numpy as np"
   ]
  },
  {
   "cell_type": "code",
   "execution_count": 40,
   "metadata": {
    "collapsed": true
   },
   "outputs": [],
   "source": [
    "with open(\"product_list2.csv\", \"r\") as fp:\n",
    "    data_tgt = fp.readlines()\n",
    "\n",
    "df = pd.read_csv(\"scraped list.csv\")\n",
    "    \n",
    "list_tgt = [x.replace('\"',\"\") for x in list(data_tgt)]\n",
    "list_src = df['product-name'].values.tolist()[:50]"
   ]
  },
  {
   "cell_type": "code",
   "execution_count": 41,
   "metadata": {
    "collapsed": true
   },
   "outputs": [],
   "source": [
    "def clean(s):\n",
    "    d = {}\n",
    "    s = s.lower()\n",
    "    sl = s.split(\" \")\n",
    "    d.update({'brand': sl[0], 'type': sl[1]})\n",
    "    second = sl[2:]\n",
    "    for part in second:\n",
    "        if \"mb/s\" in part:\n",
    "            d.update({'speed':part})\n",
    "        if \"gb\" in part:\n",
    "            d.update({'capacity':part.replace('\\n', \"\")})\n",
    "            \n",
    "    return d"
   ]
  },
  {
   "cell_type": "code",
   "execution_count": 42,
   "metadata": {},
   "outputs": [],
   "source": [
    "prodict = {}\n",
    "for l in list_tgt:\n",
    "    prodict.update({l: clean(l)})"
   ]
  },
  {
   "cell_type": "code",
   "execution_count": 43,
   "metadata": {},
   "outputs": [
    {
     "data": {
      "text/html": [
       "<div>\n",
       "<style>\n",
       "    .dataframe thead tr:only-child th {\n",
       "        text-align: right;\n",
       "    }\n",
       "\n",
       "    .dataframe thead th {\n",
       "        text-align: left;\n",
       "    }\n",
       "\n",
       "    .dataframe tbody tr th {\n",
       "        vertical-align: top;\n",
       "    }\n",
       "</style>\n",
       "<table border=\"1\" class=\"dataframe\">\n",
       "  <thead>\n",
       "    <tr style=\"text-align: right;\">\n",
       "      <th></th>\n",
       "      <th>brand</th>\n",
       "      <th>capacity</th>\n",
       "      <th>speed</th>\n",
       "      <th>type</th>\n",
       "    </tr>\n",
       "  </thead>\n",
       "  <tbody>\n",
       "    <tr>\n",
       "      <th>KINGSTON CF CARD 4GB\\n</th>\n",
       "      <td>kingston</td>\n",
       "      <td>4gb</td>\n",
       "      <td>NaN</td>\n",
       "      <td>cf</td>\n",
       "    </tr>\n",
       "    <tr>\n",
       "      <th>KINGSTON CF CARD 8GB\\n</th>\n",
       "      <td>kingston</td>\n",
       "      <td>8gb</td>\n",
       "      <td>NaN</td>\n",
       "      <td>cf</td>\n",
       "    </tr>\n",
       "    <tr>\n",
       "      <th>KINGSTON SDC CLASS 10 80MB/S 128GB\\n</th>\n",
       "      <td>kingston</td>\n",
       "      <td>128gb</td>\n",
       "      <td>80mb/s</td>\n",
       "      <td>sdc</td>\n",
       "    </tr>\n",
       "    <tr>\n",
       "      <th>KINGSTON SDC CLASS 10 80MB/S 16GB\\n</th>\n",
       "      <td>kingston</td>\n",
       "      <td>16gb</td>\n",
       "      <td>80mb/s</td>\n",
       "      <td>sdc</td>\n",
       "    </tr>\n",
       "    <tr>\n",
       "      <th>KINGSTON SDC CLASS 10 80MB/S 256MB\\n</th>\n",
       "      <td>kingston</td>\n",
       "      <td>NaN</td>\n",
       "      <td>80mb/s</td>\n",
       "      <td>sdc</td>\n",
       "    </tr>\n",
       "  </tbody>\n",
       "</table>\n",
       "</div>"
      ],
      "text/plain": [
       "                                         brand capacity   speed type\n",
       "KINGSTON CF CARD 4GB\\n                kingston      4gb     NaN   cf\n",
       "KINGSTON CF CARD 8GB\\n                kingston      8gb     NaN   cf\n",
       "KINGSTON SDC CLASS 10 80MB/S 128GB\\n  kingston    128gb  80mb/s  sdc\n",
       "KINGSTON SDC CLASS 10 80MB/S 16GB\\n   kingston     16gb  80mb/s  sdc\n",
       "KINGSTON SDC CLASS 10 80MB/S 256MB\\n  kingston      NaN  80mb/s  sdc"
      ]
     },
     "execution_count": 43,
     "metadata": {},
     "output_type": "execute_result"
    }
   ],
   "source": [
    "df = pd.DataFrame(prodict).T\n",
    "df.head()"
   ]
  },
  {
   "cell_type": "code",
   "execution_count": 44,
   "metadata": {},
   "outputs": [
    {
     "data": {
      "text/plain": [
       "brand        0\n",
       "capacity     1\n",
       "speed       19\n",
       "type         0\n",
       "dtype: int64"
      ]
     },
     "execution_count": 44,
     "metadata": {},
     "output_type": "execute_result"
    }
   ],
   "source": [
    "df.isnull().sum()"
   ]
  },
  {
   "cell_type": "code",
   "execution_count": 45,
   "metadata": {},
   "outputs": [
    {
     "data": {
      "text/plain": [
       "str"
      ]
     },
     "execution_count": 45,
     "metadata": {},
     "output_type": "execute_result"
    }
   ],
   "source": [
    "type(df.iloc[0,0])"
   ]
  },
  {
   "cell_type": "code",
   "execution_count": 52,
   "metadata": {},
   "outputs": [
    {
     "data": {
      "text/plain": [
       "'KINGSTON CF CARD 4GB\\n'"
      ]
     },
     "execution_count": 52,
     "metadata": {},
     "output_type": "execute_result"
    }
   ],
   "source": [
    "df_temp = df.applymap(lambda x: 1 if type(x) == str and x in list_src[0].lower() else 0)\n",
    "df_temp.sum(axis=1).sort_values().index.tolist()[0]"
   ]
  },
  {
   "cell_type": "code",
   "execution_count": 55,
   "metadata": {},
   "outputs": [],
   "source": [
    "matchdict = {}\n",
    "for s in list_src:\n",
    "    df_temp = df.applymap(lambda x: 1 if type(x) == str and x in s.lower() else 0)\n",
    "    key = df_temp.sum(axis=1).sort_values(ascending=False).index.tolist()[0]\n",
    "    matchdict.setdefault(key, []).append(s)"
   ]
  },
  {
   "cell_type": "code",
   "execution_count": 56,
   "metadata": {},
   "outputs": [
    {
     "data": {
      "text/plain": [
       "{'KINGSTON CF CARD 4GB\\n': ['Transcend Rdf9 Usb3.1/3.0 Sd Uhs Ii And Cf Card Reader',\n",
       "  'Kingston Microsdxc 64Gb Uhs I U3 90R/80W Memory Card',\n",
       "  'Oanda Professional 4Gb Compact Flash Memory Card(Whiteblue)',\n",
       "  'High Speed Usb 3.0 All In 1 Sd Tf Cf Xd M2 Ms Flash Memory Cardreader Adapter'],\n",
       " 'KINGSTON CF CARD 8GB\\n': ['Transcend Cfx650 128Gb Cfast 2.0 Flash Memory Card'],\n",
       " 'KINGSTON SDHC CLASS 10 80MB/S SERIES 64GB\\n': ['Samsung Evo Plus Micro Sdhc Ush 1 U3 64Gb Class10 Fhd 100M/S   Red  Intl'],\n",
       " 'KINGSTON SDHC CLASS 4 32GB\\n': ['Kingston Microsdhc 32Gb Uhs I U3 90R/80W Memory Card'],\n",
       " 'SAMSUNG SDC EVO CLASS 10 100MB/S 128GB\\n': ['Samsung Evo Plus Micro Sdxc Class 10 Uhs 1 64G Memory Card',\n",
       "  'Samsung 128Gb Evo Plus Microsd Class 10 W Adapter (Mb Mc128Daapc)',\n",
       "  'Samsung Evo 128Gb Microsdxc Uhs-I U3 With Sd Adapter Mb Mp128Ga  Intl'],\n",
       " 'SAMSUNG SDC EVO CLASS 10 100MB/S 64GB\\n': ['Samsung 2017 Evo Plus Micro Sd Tf Memory Card 64Gb',\n",
       "  'Samsung Evo 64Gb Class 10 U3 100Mb/S 4K Ultra Hd Microsd Card',\n",
       "  'Samsung Evo 64Gb Microsd Memory Card'],\n",
       " 'SANDISK CF ULTRA 50MB/S SERIES 8GB\\n': ['Shine 128Gb，256Gb，512Gb Class 10 Micro Sd Card With Adaptor (Redgrey)   Intl'],\n",
       " 'SANDISK SDC CLASS 10 48MB/S SERIES 32GB\\n': ['Original Sandisk Ultra Microsd 32Gb 48Mb/S   Singapore Seller  Ready Stock',\n",
       "  'Sandisk Micro Sd 32Gb Ultra Class 10 (48Mb/S)'],\n",
       " 'SANDISK SDC CLASS 10 48MB/S SERIES 64GB\\n': ['Sandisk Ultra 64Gb Up To 48Mb/S Class 10 Microsd Memory Cardsdsqunb 064G',\n",
       "  'Original Sandisk Ultra Microsd 64Gb 48Mb/S   Singapore Seller  Ready Stock'],\n",
       " 'SANDISK SDC CLASS 10 80MB/S SERIES 128GB\\n': ['Sandisk Ultra 128Gb Microsdxc Uhs I Class 10 Card 80Mb/S With Sdadapter'],\n",
       " 'SANDISK SDC CLASS 10 80MB/S SERIES 16GB\\n': ['Sandisk Ultra 16Gb Class 10 Sd 80Mb/S'],\n",
       " 'SANDISK SDC CLASS 10 80MB/S SERIES 200GB\\n': ['Sandisk Extreme Pro Sd Uhs Ii Card Reader/Writer',\n",
       "  'Sandisk Extreme Pro Sd Uhs Ii Card Usb C Reader/Writer'],\n",
       " 'SANDISK SDC CLASS 10 80MB/S SERIES 256GB\\n': ['Hot Sell Quality Memory Card 256Gb Micro Sd Card Sdxc Microsd Tfcard Xc   Intl',\n",
       "  'Micro Memory Sd/Tf Card Calss 10 256Gb (Gold)   Intl'],\n",
       " 'SANDISK SDHC CARDS CLASS 10 - ULTRA - 80MB/S 32GB\\n': ['Sandisk Ultra 32Gb Sdhc Uhs I U1 (Up To 80Mb/S Read) Memory Card',\n",
       "  'Sandisk Extreme Sdhc Uhs I 32Gb Card',\n",
       "  'Sandisk 80Mb/S Class 10 Ultra Memory Micro Sd Card (Grey)32Gb  Intl',\n",
       "  'Sandisk Ultra Sdhc 32Gb Uhs I Memory Cards',\n",
       "  'Transcend Micro Sd Sdhc 32Gb Memory Card (Black)'],\n",
       " 'SANDISK SDHC CARDS CLASS 10 - ULTRA - 80MB/S 64GB\\n': ['Sandisk Ultra Microsdxc Class 10 64Gb Sdsqunc 064G Gn6Ma 80Mb/S'],\n",
       " 'SANDISK SDHC CARDS CLASS 10 EXTREME 90MB/S SERIES  16GB\\n': ['Sandisk Ultra 16Gb Sdhc Card Class 10 30Mb/S'],\n",
       " 'SANDISK SDHC CARDS CLASS 10 EXTREME 90MB/S SERIES  64GB\\n': ['Sandisk Ultra Microsdxc 64Gb',\n",
       "  'Sandisk Microsd Extreme Pro Class 10 64Gb'],\n",
       " 'SANDISK SDHC CARDS CLASS 10 EXTREME PRO 300MB/S SERIES 128GB\\n': ['Sandisk Extreme Pro 128Gb Class 10 Sd 300Mb/S'],\n",
       " 'SANDISK SDHC CARDS CLASS 10 EXTREME PRO 95MB/S SERIES 256GB\\n': ['Sandisk Extreme Pro Sdxc 256Gb 95Mb/S',\n",
       "  'Sandisk Extreme Pro Sdxc Uhs I 256Gb Card'],\n",
       " 'SANDISK SDHC CARDS CLASS 10 EXTREME PRO 95MB/S SERIES 512GB\\n': ['Shine 128Gb，256Gb，512Gb Micro Sd Sdhc Memory Card Microsd   Intl'],\n",
       " 'TOSHIBA SDHC N302 EXCERIA CLASS 10 90MB/S 16GB\\n': ['Toshiba Flash Air Iii Wireless Sd Memory Card 16Gb (Pfw016U 1Ccw)'],\n",
       " 'TOSHIBA W-03 FLASHAIR 32GB\\n': ['Transcend Usb 3.0 Multi Card Reader (White)',\n",
       "  'Transcend Usb Type C Otg Multi Card Reader',\n",
       "  '2 In 1 Multi Function Usb2.0 Otg Card Reader Tf/Sd Card Readeradapter   Intl',\n",
       "  'Transcend Usb 3.0 Sd And Microsd Card Reader (White)',\n",
       "  'Bolehdeals Micro Sd Tf To Ms Pro Duo Memory Stick Adapter (Black)',\n",
       "  'Type C Micro Usb Otg To Usb 2.0 Adapter Sd/Micro Sd Card Reader  Intl',\n",
       "  'Micro Sd Sdxc Storage Holder Memory Card Case Protector(Black)  Intl',\n",
       "  'Memory Card Storage Wallet Case Bag Holder Sd Micro 22 Slots Camera(Black)',\n",
       "  'Usb 3.1 Type C Usb To Micro Sd Sdxc Tf Card Reader   Intl',\n",
       "  '2 In 1 Multi Function Usb2.0 Otg Card Reader Tf/Sd Card Readeradapter   Intl',\n",
       "  'Strontium Nitro 32Gb Class 10 Microsd Otg Bundle',\n",
       "  'Strontium 32Gb Nitro Idrive Card Reader With Lightning Connector']}"
      ]
     },
     "execution_count": 56,
     "metadata": {},
     "output_type": "execute_result"
    }
   ],
   "source": [
    "matchdict"
   ]
  }
 ],
 "metadata": {
  "kernelspec": {
   "display_name": "Python 3",
   "language": "python",
   "name": "python3"
  },
  "language_info": {
   "codemirror_mode": {
    "name": "ipython",
    "version": 3
   },
   "file_extension": ".py",
   "mimetype": "text/x-python",
   "name": "python",
   "nbconvert_exporter": "python",
   "pygments_lexer": "ipython3",
   "version": "3.6.2"
  }
 },
 "nbformat": 4,
 "nbformat_minor": 2
}
